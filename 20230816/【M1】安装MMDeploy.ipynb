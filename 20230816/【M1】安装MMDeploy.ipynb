{
 "cells": [
  {
   "cell_type": "markdown",
   "id": "d5393ee5-30f8-49ec-b49a-ce09e37a2d3f",
   "metadata": {},
   "source": [
    "# 安装MMDeploy\n",
    "\n",
    "同济子豪兄 2023-7-13"
   ]
  },
  {
   "cell_type": "markdown",
   "id": "6bc25ed0-22fb-4816-b1a8-ef7e0e8eef89",
   "metadata": {},
   "source": [
    "## 安装MMDeploy"
   ]
  },
  {
   "cell_type": "code",
   "execution_count": 2,
   "id": "5e9f3234-b3f4-40d4-b060-16499555e77d",
   "metadata": {},
   "outputs": [],
   "source": [
    "# !pip install mmdeploy --upgrade\n",
    "!pip install mmdeploy==1.2.0"
   ]
  },
  {
   "cell_type": "markdown",
   "id": "c44c2744-a51a-425f-a336-5964fe3982d8",
   "metadata": {},
   "source": [
    "## 下载MMDeploy"
   ]
  },
  {
   "cell_type": "code",
   "execution_count": 1,
   "id": "d6905315-fa4a-4d91-96c6-618be9f53b06",
   "metadata": {},
   "outputs": [],
   "source": [
    "!rm -rf mmdeploy"
   ]
  },
  {
   "cell_type": "code",
   "execution_count": 2,
   "id": "f56e36f6-c0d7-4b81-8864-b28b1d882f2f",
   "metadata": {},
   "outputs": [
    {
     "name": "stdout",
     "output_type": "stream",
     "text": [
      "正克隆到 'mmdeploy'...\n",
      "remote: Enumerating objects: 24435, done.\u001b[K\n",
      "remote: Counting objects: 100% (38/38), done.\u001b[K\n",
      "remote: Compressing objects: 100% (37/37), done.\u001b[K\n",
      "remote: Total 24435 (delta 10), reused 14 (delta 0), pack-reused 24397\u001b[K\n",
      "接收对象中: 100% (24435/24435), 13.06 MiB | 6.71 MiB/s, 完成.\n",
      "处理 delta 中: 100% (15700/15700), 完成.\n",
      "正在更新文件: 100% (1847/1847), 完成.\n"
     ]
    }
   ],
   "source": [
    "!git clone https://github.com/open-mmlab/mmdeploy.git"
   ]
  },
  {
   "cell_type": "markdown",
   "id": "657bb66e-2925-4caa-aaae-68f227dbb8cb",
   "metadata": {},
   "source": [
    "## 验证安装配置成功"
   ]
  },
  {
   "cell_type": "code",
   "execution_count": 3,
   "id": "254b7656-d74d-46df-b456-e2791bd506b8",
   "metadata": {},
   "outputs": [
    {
     "name": "stdout",
     "output_type": "stream",
     "text": [
      "MMDeploy 版本 1.2.0\n"
     ]
    }
   ],
   "source": [
    "import mmdeploy\n",
    "print('MMDeploy 版本', mmdeploy.__version__)"
   ]
  },
  {
   "cell_type": "code",
   "execution_count": null,
   "id": "6b22be5e-79ee-4886-90c7-9d5bef0b1e03",
   "metadata": {},
   "outputs": [],
   "source": []
  }
 ],
 "metadata": {
  "kernelspec": {
   "display_name": "Python 3 (ipykernel)",
   "language": "python",
   "name": "python3"
  },
  "language_info": {
   "codemirror_mode": {
    "name": "ipython",
    "version": 3
   },
   "file_extension": ".py",
   "mimetype": "text/x-python",
   "name": "python",
   "nbconvert_exporter": "python",
   "pygments_lexer": "ipython3",
   "version": "3.7.10"
  }
 },
 "nbformat": 4,
 "nbformat_minor": 5
}
