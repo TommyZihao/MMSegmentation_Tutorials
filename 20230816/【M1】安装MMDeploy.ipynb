{
 "cells": [
  {
   "cell_type": "markdown",
   "id": "d5393ee5-30f8-49ec-b49a-ce09e37a2d3f",
   "metadata": {},
   "source": [
    "# 安装MMDeploy\n",
    "\n",
    "同济子豪兄 2023-7-13"
   ]
  },
  {
   "cell_type": "markdown",
   "id": "6bc25ed0-22fb-4816-b1a8-ef7e0e8eef89",
   "metadata": {},
   "source": [
    "## 安装MMDeploy"
   ]
  },
  {
   "cell_type": "code",
   "execution_count": null,
   "id": "5e9f3234-b3f4-40d4-b060-16499555e77d",
   "metadata": {},
   "outputs": [],
   "source": [
    "# !pip install mmdeploy --upgrade\n",
    "!pip install mmdeploy==1.2.0"
   ]
  },
  {
   "cell_type": "markdown",
   "id": "c44c2744-a51a-425f-a336-5964fe3982d8",
   "metadata": {},
   "source": [
    "## 下载MMDeploy"
   ]
  },
  {
   "cell_type": "code",
   "execution_count": null,
   "id": "d6905315-fa4a-4d91-96c6-618be9f53b06",
   "metadata": {},
   "outputs": [],
   "source": [
    "!rm -rf mmdeploy"
   ]
  },
  {
   "cell_type": "code",
   "execution_count": null,
   "id": "f56e36f6-c0d7-4b81-8864-b28b1d882f2f",
   "metadata": {},
   "outputs": [],
   "source": [
    "!git clone https://github.com/open-mmlab/mmdeploy.git"
   ]
  },
  {
   "cell_type": "markdown",
   "id": "06af3f87-a073-403d-bb6b-20396b40e825",
   "metadata": {},
   "source": [
    "## 安装ONNXRuntime和NCNN等推理框架"
   ]
  },
  {
   "cell_type": "code",
   "execution_count": 10,
   "id": "7d8fac04-3ba5-4ee5-9486-6bb0fea82f44",
   "metadata": {},
   "outputs": [],
   "source": [
    "!pip install onnxruntime ncnn"
   ]
  },
  {
   "cell_type": "markdown",
   "id": "7b4796d7-6c95-4b23-8a09-26daf90dd321",
   "metadata": {},
   "source": [
    "## 验证安装配置成功"
   ]
  },
  {
   "cell_type": "code",
   "execution_count": 6,
   "id": "254b7656-d74d-46df-b456-e2791bd506b8",
   "metadata": {},
   "outputs": [
    {
     "name": "stdout",
     "output_type": "stream",
     "text": [
      "MMDeploy 版本 1.2.0\n"
     ]
    }
   ],
   "source": [
    "import mmdeploy\n",
    "print('MMDeploy 版本', mmdeploy.__version__)"
   ]
  },
  {
   "cell_type": "code",
   "execution_count": 8,
   "id": "21c23918-e6b3-43c7-b13b-3abe1576d008",
   "metadata": {},
   "outputs": [
    {
     "name": "stdout",
     "output_type": "stream",
     "text": [
      "ONNXRuntime 版本 1.14.1\n"
     ]
    }
   ],
   "source": [
    "import onnxruntime as ort\n",
    "print('ONNXRuntime 版本', ort.__version__)"
   ]
  },
  {
   "cell_type": "code",
   "execution_count": 9,
   "id": "3368facb-75e3-47e0-8017-4d0b8d00a177",
   "metadata": {},
   "outputs": [
    {
     "name": "stdout",
     "output_type": "stream",
     "text": [
      "NCNN 版本 1.0.20230517\n"
     ]
    }
   ],
   "source": [
    "import ncnn\n",
    "print('NCNN 版本', ncnn.__version__)"
   ]
  },
  {
   "cell_type": "code",
   "execution_count": null,
   "id": "6b22be5e-79ee-4886-90c7-9d5bef0b1e03",
   "metadata": {},
   "outputs": [],
   "source": []
  }
 ],
 "metadata": {
  "kernelspec": {
   "display_name": "Python 3 (ipykernel)",
   "language": "python",
   "name": "python3"
  },
  "language_info": {
   "codemirror_mode": {
    "name": "ipython",
    "version": 3
   },
   "file_extension": ".py",
   "mimetype": "text/x-python",
   "name": "python",
   "nbconvert_exporter": "python",
   "pygments_lexer": "ipython3",
   "version": "3.7.10"
  }
 },
 "nbformat": 4,
 "nbformat_minor": 5
}
