{
 "cells": [
  {
   "cell_type": "markdown",
   "id": "3387b888-9060-46a8-ab3a-a1fe8941a897",
   "metadata": {},
   "source": [
    "# MMDeploy模型部署-Pytorch转ONNX\n",
    "\n",
    "同济子豪兄 2023-7-13"
   ]
  },
  {
   "cell_type": "markdown",
   "id": "389b8643-0494-4473-abac-64ca6701571c",
   "metadata": {},
   "source": [
    "## 进入MMDeploy主目录"
   ]
  },
  {
   "cell_type": "code",
   "execution_count": 1,
   "id": "4dc2990c-69a6-4482-9bd8-04f0fcd552b3",
   "metadata": {},
   "outputs": [],
   "source": [
    "import os\n",
    "os.chdir('mmdeploy')"
   ]
  },
  {
   "cell_type": "markdown",
   "id": "3409607b-0260-4285-a0ad-16d9b2817cae",
   "metadata": {},
   "source": [
    "## 模型转换-Pytorch转ONNX"
   ]
  },
  {
   "cell_type": "code",
   "execution_count": null,
   "id": "cad2cc92-5d5e-408c-9aff-b3c523058f3a",
   "metadata": {},
   "outputs": [],
   "source": [
    "# 删除原有的文件夹（如有）\n",
    "!rm -rf mmseg2onnx_fastscnn"
   ]
  },
  {
   "cell_type": "code",
   "execution_count": 4,
   "id": "e2167468-844f-487d-b9bd-26b249c2804f",
   "metadata": {},
   "outputs": [
    {
     "name": "stdout",
     "output_type": "stream",
     "text": [
      "07/16 10:56:45 - mmengine - \u001b[5m\u001b[4m\u001b[33mWARNING\u001b[0m - Failed to search registry with scope \"mmseg\" in the \"Codebases\" registry tree. As a workaround, the current \"Codebases\" registry in \"mmdeploy\" is used to build instance. This may cause unexpected failure when running the built modules. Please check whether \"mmseg\" is a correct scope, or whether the registry is initialized.\n",
      "07/16 10:56:45 - mmengine - \u001b[5m\u001b[4m\u001b[33mWARNING\u001b[0m - Failed to search registry with scope \"mmseg\" in the \"mmseg_tasks\" registry tree. As a workaround, the current \"mmseg_tasks\" registry in \"mmdeploy\" is used to build instance. This may cause unexpected failure when running the built modules. Please check whether \"mmseg\" is a correct scope, or whether the registry is initialized.\n",
      "07/16 10:56:47 - mmengine - \u001b[4m\u001b[37mINFO\u001b[0m - Start pipeline mmdeploy.apis.pytorch2onnx.torch2onnx in subprocess\n",
      "07/16 10:56:49 - mmengine - \u001b[5m\u001b[4m\u001b[33mWARNING\u001b[0m - Failed to search registry with scope \"mmseg\" in the \"Codebases\" registry tree. As a workaround, the current \"Codebases\" registry in \"mmdeploy\" is used to build instance. This may cause unexpected failure when running the built modules. Please check whether \"mmseg\" is a correct scope, or whether the registry is initialized.\n",
      "07/16 10:56:49 - mmengine - \u001b[5m\u001b[4m\u001b[33mWARNING\u001b[0m - Failed to search registry with scope \"mmseg\" in the \"mmseg_tasks\" registry tree. As a workaround, the current \"mmseg_tasks\" registry in \"mmdeploy\" is used to build instance. This may cause unexpected failure when running the built modules. Please check whether \"mmseg\" is a correct scope, or whether the registry is initialized.\n",
      "/home/featurize/work/MMSegmentation教程20230625/mmsegmentation/mmseg/models/builder.py:36: UserWarning: ``build_loss`` would be deprecated soon, please use ``mmseg.registry.MODELS.build()`` \n",
      "  warnings.warn('``build_loss`` would be deprecated soon, please use '\n",
      "/home/featurize/work/MMSegmentation教程20230625/mmsegmentation/mmseg/models/losses/cross_entropy_loss.py:236: UserWarning: Default ``avg_non_ignore`` is False, if you would like to ignore the certain label and average loss over non-ignore labels, which is the same with PyTorch official cross_entropy, set ``avg_non_ignore=True``.\n",
      "  'Default ``avg_non_ignore`` is False, if you would like to '\n",
      "Loads checkpoint by local backend from path: ../mmsegmentation/checkpoint/Zihao_FastSCNN.pth\n",
      "07/16 10:56:49 - mmengine - \u001b[5m\u001b[4m\u001b[33mWARNING\u001b[0m - DeprecationWarning: get_onnx_config will be deprecated in the future. \n",
      "07/16 10:56:49 - mmengine - \u001b[4m\u001b[37mINFO\u001b[0m - Export PyTorch model to ONNX: mmseg2onnx_fastscnn/end2end.onnx.\n",
      "07/16 10:56:49 - mmengine - \u001b[5m\u001b[4m\u001b[33mWARNING\u001b[0m - Can not find torch._C._jit_pass_onnx_autograd_function_process, function rewrite will not be applied\n",
      "/environment/miniconda3/lib/python3.7/site-packages/mmdeploy/core/optimizers/function_marker.py:160: TracerWarning: Converting a tensor to a Python integer might cause the trace to be incorrect. We can't record the data flow of Python values, so this value will be treated as a constant in the future. This means that the trace might not generalize to other inputs!\n",
      "  ys_shape = tuple(int(s) for s in ys.shape)\n",
      "07/16 10:56:50 - mmengine - \u001b[5m\u001b[4m\u001b[33mWARNING\u001b[0m - `adaptive_avg_pool2d` would be replaced to `avg_pool2d` explicitly\n",
      "/environment/miniconda3/lib/python3.7/site-packages/mmdeploy/pytorch/functions/adaptive_pool.py:26: TracerWarning: Converting a tensor to a Python integer might cause the trace to be incorrect. We can't record the data flow of Python values, so this value will be treated as a constant in the future. This means that the trace might not generalize to other inputs!\n",
      "  k = [int(size[i] / output_size[i]) for i in range(0, len(size))]\n",
      "/environment/miniconda3/lib/python3.7/site-packages/mmdeploy/codebase/mmseg/models/segmentors/base.py:61: TracerWarning: Converting a tensor to a Python boolean might cause the trace to be incorrect. We can't record the data flow of Python values, so this value will be treated as a constant in the future. This means that the trace might not generalize to other inputs!\n",
      "  if seg_logit.shape[1] == 1:\n",
      "07/16 10:56:52 - mmengine - \u001b[4m\u001b[37mINFO\u001b[0m - Execute onnx optimize passes.\n",
      "07/16 10:56:52 - mmengine - \u001b[5m\u001b[4m\u001b[33mWARNING\u001b[0m - Can not optimize model, please build torchscipt extension.\n",
      "More details: https://github.com/open-mmlab/mmdeploy/tree/main/docs/en/experimental/onnx_optimizer.md\n",
      "07/16 10:56:52 - mmengine - \u001b[4m\u001b[37mINFO\u001b[0m - Finish pipeline mmdeploy.apis.pytorch2onnx.torch2onnx\n",
      "07/16 10:56:53 - mmengine - \u001b[4m\u001b[37mINFO\u001b[0m - Start pipeline mmdeploy.apis.utils.utils.to_backend in main process\n",
      "07/16 10:56:53 - mmengine - \u001b[4m\u001b[37mINFO\u001b[0m - Finish pipeline mmdeploy.apis.utils.utils.to_backend\n",
      "07/16 10:56:53 - mmengine - \u001b[4m\u001b[37mINFO\u001b[0m - visualize onnxruntime model start.\n",
      "07/16 10:56:56 - mmengine - \u001b[5m\u001b[4m\u001b[33mWARNING\u001b[0m - Failed to search registry with scope \"mmseg\" in the \"Codebases\" registry tree. As a workaround, the current \"Codebases\" registry in \"mmdeploy\" is used to build instance. This may cause unexpected failure when running the built modules. Please check whether \"mmseg\" is a correct scope, or whether the registry is initialized.\n",
      "07/16 10:56:56 - mmengine - \u001b[5m\u001b[4m\u001b[33mWARNING\u001b[0m - Failed to search registry with scope \"mmseg\" in the \"mmseg_tasks\" registry tree. As a workaround, the current \"mmseg_tasks\" registry in \"mmdeploy\" is used to build instance. This may cause unexpected failure when running the built modules. Please check whether \"mmseg\" is a correct scope, or whether the registry is initialized.\n",
      "07/16 10:56:57 - mmengine - \u001b[5m\u001b[4m\u001b[33mWARNING\u001b[0m - Failed to search registry with scope \"mmseg\" in the \"backend_segmentors\" registry tree. As a workaround, the current \"backend_segmentors\" registry in \"mmdeploy\" is used to build instance. This may cause unexpected failure when running the built modules. Please check whether \"mmseg\" is a correct scope, or whether the registry is initialized.\n",
      "07/16 10:56:57 - mmengine - \u001b[4m\u001b[37mINFO\u001b[0m - Successfully loaded onnxruntime custom ops from /environment/miniconda3/lib/python3.7/site-packages/mmdeploy/lib/libmmdeploy_onnxruntime_ops.so\n",
      "07/16 10:57:01 - mmengine - \u001b[4m\u001b[37mINFO\u001b[0m - visualize onnxruntime model success.\n",
      "07/16 10:57:01 - mmengine - \u001b[4m\u001b[37mINFO\u001b[0m - visualize pytorch model start.\n",
      "07/16 10:57:05 - mmengine - \u001b[5m\u001b[4m\u001b[33mWARNING\u001b[0m - Failed to search registry with scope \"mmseg\" in the \"Codebases\" registry tree. As a workaround, the current \"Codebases\" registry in \"mmdeploy\" is used to build instance. This may cause unexpected failure when running the built modules. Please check whether \"mmseg\" is a correct scope, or whether the registry is initialized.\n",
      "07/16 10:57:05 - mmengine - \u001b[5m\u001b[4m\u001b[33mWARNING\u001b[0m - Failed to search registry with scope \"mmseg\" in the \"mmseg_tasks\" registry tree. As a workaround, the current \"mmseg_tasks\" registry in \"mmdeploy\" is used to build instance. This may cause unexpected failure when running the built modules. Please check whether \"mmseg\" is a correct scope, or whether the registry is initialized.\n",
      "/home/featurize/work/MMSegmentation教程20230625/mmsegmentation/mmseg/models/builder.py:36: UserWarning: ``build_loss`` would be deprecated soon, please use ``mmseg.registry.MODELS.build()`` \n",
      "  warnings.warn('``build_loss`` would be deprecated soon, please use '\n",
      "/home/featurize/work/MMSegmentation教程20230625/mmsegmentation/mmseg/models/losses/cross_entropy_loss.py:236: UserWarning: Default ``avg_non_ignore`` is False, if you would like to ignore the certain label and average loss over non-ignore labels, which is the same with PyTorch official cross_entropy, set ``avg_non_ignore=True``.\n",
      "  'Default ``avg_non_ignore`` is False, if you would like to '\n",
      "Loads checkpoint by local backend from path: ../mmsegmentation/checkpoint/Zihao_FastSCNN.pth\n",
      "07/16 10:57:13 - mmengine - \u001b[4m\u001b[37mINFO\u001b[0m - visualize pytorch model success.\n",
      "07/16 10:57:13 - mmengine - \u001b[4m\u001b[37mINFO\u001b[0m - All process success.\n"
     ]
    }
   ],
   "source": [
    "!python tools/deploy.py \\\n",
    "        configs/mmseg/segmentation_onnxruntime_dynamic.py \\\n",
    "        ../mmsegmentation/Zihao-Configs/ZihaoDataset_FastSCNN_20230712.py \\\n",
    "        ../mmsegmentation/checkpoint/Zihao_FastSCNN.pth \\\n",
    "        ../mmsegmentation/data/watermelon_test1.jpg \\\n",
    "        --work-dir mmseg2onnx_fastscnn \\\n",
    "        --dump-info"
   ]
  },
  {
   "cell_type": "markdown",
   "id": "eede1f5d-81e1-4587-baf4-5872d9971217",
   "metadata": {},
   "source": [
    "## 生成以下文件\n",
    "验证转换成功（非必需）：\n",
    "\n",
    "output_onnxruntime.jpg：用ONNX Runtime推理框架的预测结果，应与output_pytorch.jpg几乎相同\n",
    "\n",
    "output_pytorch.jpg：用原生Pytorch的预测结果，应与output_onnxruntime.jpg几乎相同\n",
    "\n",
    "detail.json：模型转ONNX的信息，用于追溯bug\n",
    "\n",
    "转换得到的模型及信息（必需）：\n",
    "\n",
    "deploy.json：模型描述，用于MMDeploy Runtime推理\n",
    "\n",
    "end2end.onnx：ONNX模型\n",
    "\n",
    "pipeline.json：模型输入、推理、后处理，每一步骤的输入输出信息"
   ]
  },
  {
   "cell_type": "code",
   "execution_count": null,
   "id": "2b4545df-e894-4d4f-a161-6c68a8c50bef",
   "metadata": {},
   "outputs": [],
   "source": []
  }
 ],
 "metadata": {
  "kernelspec": {
   "display_name": "Python 3 (ipykernel)",
   "language": "python",
   "name": "python3"
  },
  "language_info": {
   "codemirror_mode": {
    "name": "ipython",
    "version": 3
   },
   "file_extension": ".py",
   "mimetype": "text/x-python",
   "name": "python",
   "nbconvert_exporter": "python",
   "pygments_lexer": "ipython3",
   "version": "3.7.10"
  }
 },
 "nbformat": 4,
 "nbformat_minor": 5
}
