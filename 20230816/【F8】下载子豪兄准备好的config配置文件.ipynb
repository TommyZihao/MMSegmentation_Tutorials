{
 "cells": [
  {
   "cell_type": "markdown",
   "id": "b2780aa1-43ef-4744-a176-3a2d550dda9a",
   "metadata": {},
   "source": [
    "# 下载子豪兄准备好的config配置文件\n",
    "\n",
    "同济子豪兄 2023-8-18"
   ]
  },
  {
   "cell_type": "markdown",
   "id": "719f1932-3dc8-4b2a-b832-18637834e83e",
   "metadata": {},
   "source": [
    "## 将config配置文件下载到`mmsegmentation/Zihao-Configs`目录下\n",
    "\n",
    "链接: https://pan.baidu.com/s/1dzZG9VC8ole1efd7q_pM_g 提取码: rg00"
   ]
  },
  {
   "cell_type": "code",
   "execution_count": null,
   "id": "f01472f6-8588-4d56-bcff-3834bf7675e2",
   "metadata": {},
   "outputs": [],
   "source": []
  }
 ],
 "metadata": {
  "kernelspec": {
   "display_name": "Python 3 (ipykernel)",
   "language": "python",
   "name": "python3"
  },
  "language_info": {
   "codemirror_mode": {
    "name": "ipython",
    "version": 3
   },
   "file_extension": ".py",
   "mimetype": "text/x-python",
   "name": "python",
   "nbconvert_exporter": "python",
   "pygments_lexer": "ipython3",
   "version": "3.7.10"
  }
 },
 "nbformat": 4,
 "nbformat_minor": 5
}
