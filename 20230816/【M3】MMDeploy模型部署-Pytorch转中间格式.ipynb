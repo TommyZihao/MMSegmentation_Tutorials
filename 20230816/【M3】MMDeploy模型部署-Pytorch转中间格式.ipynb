{
 "cells": [
  {
   "cell_type": "markdown",
   "id": "3387b888-9060-46a8-ab3a-a1fe8941a897",
   "metadata": {},
   "source": [
    "# MMDeploy模型部署-Pytorch转中间格式\n",
    "\n",
    "同济子豪兄 2023-7-13"
   ]
  },
  {
   "cell_type": "markdown",
   "id": "389b8643-0494-4473-abac-64ca6701571c",
   "metadata": {},
   "source": [
    "## 进入MMDeploy主目录"
   ]
  },
  {
   "cell_type": "code",
   "execution_count": 1,
   "id": "4dc2990c-69a6-4482-9bd8-04f0fcd552b3",
   "metadata": {},
   "outputs": [],
   "source": [
    "import os\n",
    "os.chdir('mmdeploy')"
   ]
  },
  {
   "cell_type": "markdown",
   "id": "3409607b-0260-4285-a0ad-16d9b2817cae",
   "metadata": {},
   "source": [
    "## 模型转换-Pytorch转ONNX"
   ]
  },
  {
   "cell_type": "code",
   "execution_count": 1,
   "id": "8278f484-6cb2-4cd3-8707-ffb7929484a4",
   "metadata": {},
   "outputs": [],
   "source": [
    "!pip install onnxruntime"
   ]
  },
  {
   "cell_type": "code",
   "execution_count": 3,
   "id": "cff38cbe-06b0-43b7-a7d0-84bf1975cc43",
   "metadata": {},
   "outputs": [
    {
     "name": "stdout",
     "output_type": "stream",
     "text": [
      "ONNXRuntime 版本 1.14.1\n"
     ]
    }
   ],
   "source": [
    "import onnxruntime as ort\n",
    "print('ONNXRuntime 版本', ort.__version__)"
   ]
  },
  {
   "cell_type": "code",
   "execution_count": 4,
   "id": "cad2cc92-5d5e-408c-9aff-b3c523058f3a",
   "metadata": {},
   "outputs": [],
   "source": [
    "# 删除原有的文件夹（如有）\n",
    "!rm -rf mmseg2onnx_fastscnn"
   ]
  },
  {
   "cell_type": "code",
   "execution_count": 6,
   "id": "e2167468-844f-487d-b9bd-26b249c2804f",
   "metadata": {},
   "outputs": [],
   "source": [
    "!python tools/deploy.py \\\n",
    "        configs/mmseg/segmentation_onnxruntime_dynamic.py \\\n",
    "        ../mmsegmentation/Zihao-Configs/ZihaoDataset_FastSCNN_20230818.py \\\n",
    "        ../mmsegmentation/checkpoint/Zihao_FastSCNN.pth \\\n",
    "        ../mmsegmentation/data/watermelon_test1.jpg \\\n",
    "        --work-dir mmseg2onnx_fastscnn \\\n",
    "        --dump-info"
   ]
  },
  {
   "cell_type": "markdown",
   "id": "be9f4aa1-16b5-4bb7-b315-d8856b25ca04",
   "metadata": {},
   "source": [
    "转换完成的模型，导出在`mmdeploy/mmseg2onnx_fastscnn`\n",
    "\n",
    "包含以下文件：\n",
    "\n",
    "- 验证转换成功（非必需）：\n",
    "\n",
    "output_onnxruntime.jpg：用ONNX Runtime推理框架的预测结果，应与output_pytorch.jpg几乎相同\n",
    "\n",
    "output_pytorch.jpg：用原生Pytorch的预测结果，应与output_onnxruntime.jpg几乎相同\n",
    "\n",
    "detail.json：模型转ONNX的信息，用于追溯bug\n",
    "\n",
    "- 转换得到的模型及信息（必需）：\n",
    "\n",
    "deploy.json：模型描述，用于MMDeploy Runtime推理\n",
    "\n",
    "end2end.onnx：ONNX模型\n",
    "\n",
    "pipeline.json：模型输入、预处理、推理、后处理，每一步骤的输入输出信息"
   ]
  },
  {
   "cell_type": "markdown",
   "id": "8e269e95-0640-492b-81d3-b72d45924df8",
   "metadata": {},
   "source": [
    "> Netron可视化模型结构：https://netron.app"
   ]
  },
  {
   "cell_type": "markdown",
   "id": "7c111941-d6bc-4910-b97e-2d8ec1c8cd1b",
   "metadata": {
    "tags": []
   },
   "source": [
    "## 模型转换-Pytorch转NCNN"
   ]
  },
  {
   "cell_type": "code",
   "execution_count": null,
   "id": "7b646c88-f922-4d13-92c9-dae8e7c70086",
   "metadata": {},
   "outputs": [],
   "source": [
    "!pip install ncnn"
   ]
  },
  {
   "cell_type": "code",
   "execution_count": 19,
   "id": "2f8fe9a9-b6a5-4e75-a13f-46c3e1823431",
   "metadata": {},
   "outputs": [
    {
     "name": "stdout",
     "output_type": "stream",
     "text": [
      "NCNN 版本 1.0.20230816\n"
     ]
    }
   ],
   "source": [
    "import ncnn\n",
    "print('NCNN 版本', ncnn.__version__)"
   ]
  },
  {
   "cell_type": "code",
   "execution_count": 7,
   "id": "f1ba14c7-f0fc-40df-a2cf-32adbb2eff55",
   "metadata": {},
   "outputs": [],
   "source": [
    "# 删除原有的文件夹（如有）\n",
    "!rm -rf mmseg2ncnn_fastscnn"
   ]
  },
  {
   "cell_type": "code",
   "execution_count": 21,
   "id": "3fd9d28e-32f1-43ef-853a-776130d5f153",
   "metadata": {},
   "outputs": [],
   "source": [
    "!python tools/deploy.py \\\n",
    "        configs/mmseg/segmentation_ncnn_static-512x512.py \\\n",
    "        ../mmsegmentation/Zihao-Configs/ZihaoDataset_FastSCNN_20230818.py \\\n",
    "        ../mmsegmentation/checkpoint/Zihao_FastSCNN.pth \\\n",
    "        ../mmsegmentation/data/watermelon_test1.jpg \\\n",
    "        --work-dir mmseg2ncnn_fastscnn \\\n",
    "        --dump-info"
   ]
  },
  {
   "cell_type": "markdown",
   "id": "977cb3b8-c60b-4744-99b3-c49d8d4fdd45",
   "metadata": {},
   "source": [
    "转换完成的模型，导出在`mmdeploy/mmseg2ncnn_fastscnn`"
   ]
  },
  {
   "cell_type": "markdown",
   "id": "8a907d4d-48ab-4e22-82aa-71124df90b74",
   "metadata": {},
   "source": [
    "## 模型转换-Pytorch转TensorRT"
   ]
  },
  {
   "cell_type": "markdown",
   "id": "13633fc6-d160-41d5-8416-bf544db7389e",
   "metadata": {},
   "source": [
    "需先安装TensorRT"
   ]
  },
  {
   "cell_type": "code",
   "execution_count": 14,
   "id": "0c543a27-9f67-4fe2-acb6-0061c80dc1e1",
   "metadata": {},
   "outputs": [],
   "source": [
    "# 删除原有的文件夹（如有）\n",
    "!rm -rf mmseg2tensorrt_fastscnn"
   ]
  },
  {
   "cell_type": "code",
   "execution_count": 16,
   "id": "3e5360ef-17e6-49b2-9ea5-5aa67b816b47",
   "metadata": {},
   "outputs": [],
   "source": [
    "!python tools/deploy.py \\\n",
    "        configs/mmseg/segmentation_tensorrt-fp16_static-512x512.py \\\n",
    "        ../mmsegmentation/Zihao-Configs/ZihaoDataset_FastSCNN_20230818.py \\\n",
    "        ../mmsegmentation/checkpoint/Zihao_FastSCNN.pth \\\n",
    "        ../mmsegmentation/data/watermelon_test1.jpg \\\n",
    "        --work-dir mmseg2snpe_fastscnn \\\n",
    "        --device cuda:0 \\\n",
    "        --dump-info"
   ]
  },
  {
   "cell_type": "markdown",
   "id": "e9b08200-72ec-49a8-a842-434b37178839",
   "metadata": {},
   "source": [
    "## 模型转换-Pytorch转SNPE"
   ]
  },
  {
   "cell_type": "markdown",
   "id": "4b829be9-eeb0-4a3f-8fbb-ff2adbf71cbe",
   "metadata": {},
   "source": [
    "需先安装SNPE"
   ]
  },
  {
   "cell_type": "code",
   "execution_count": 9,
   "id": "54c60618-d5a5-4556-a847-bcef2e2914cb",
   "metadata": {},
   "outputs": [],
   "source": [
    "# 删除原有的文件夹（如有）\n",
    "!rm -rf mmseg2snpe_fastscnn"
   ]
  },
  {
   "cell_type": "code",
   "execution_count": 17,
   "id": "0cb4900d-e32b-4ef6-b019-577320b4c441",
   "metadata": {},
   "outputs": [],
   "source": [
    "!python tools/deploy.py \\\n",
    "        configs/mmseg/segmentation_snpe_static-512x1024.py \\\n",
    "        ../mmsegmentation/Zihao-Configs/ZihaoDataset_FastSCNN_20230818.py \\\n",
    "        ../mmsegmentation/checkpoint/Zihao_FastSCNN.pth \\\n",
    "        ../mmsegmentation/data/watermelon_test1.jpg \\\n",
    "        --work-dir mmseg2snpe_fastscnn \\\n",
    "        --dump-info"
   ]
  },
  {
   "cell_type": "code",
   "execution_count": null,
   "id": "edef6cc5-67bb-4c41-88ed-bb827ac9b4c2",
   "metadata": {},
   "outputs": [],
   "source": []
  }
 ],
 "metadata": {
  "kernelspec": {
   "display_name": "Python 3 (ipykernel)",
   "language": "python",
   "name": "python3"
  },
  "language_info": {
   "codemirror_mode": {
    "name": "ipython",
    "version": 3
   },
   "file_extension": ".py",
   "mimetype": "text/x-python",
   "name": "python",
   "nbconvert_exporter": "python",
   "pygments_lexer": "ipython3",
   "version": "3.7.10"
  }
 },
 "nbformat": 4,
 "nbformat_minor": 5
}
