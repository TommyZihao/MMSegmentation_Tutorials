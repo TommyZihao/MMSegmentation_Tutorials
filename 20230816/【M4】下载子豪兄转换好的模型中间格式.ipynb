{
 "cells": [
  {
   "cell_type": "markdown",
   "id": "d2d85dd7-247e-4cab-bbf7-e924775f7ca1",
   "metadata": {},
   "source": [
    "# 下载子豪兄转换好的模型中间格式\n",
    "\n",
    "同济子豪兄 2023-8-20"
   ]
  },
  {
   "cell_type": "markdown",
   "id": "8befeb85-4a7e-42ac-aa0a-cf806101489d",
   "metadata": {},
   "source": [
    "链接: https://pan.baidu.com/s/1E7Q0P79nUHs_7fcrwl5_Kg 提取码: luq8"
   ]
  },
  {
   "cell_type": "code",
   "execution_count": null,
   "id": "4467bc19-858e-4ce5-a675-a88f8b44e088",
   "metadata": {},
   "outputs": [],
   "source": []
  }
 ],
 "metadata": {
  "kernelspec": {
   "display_name": "Python 3 (ipykernel)",
   "language": "python",
   "name": "python3"
  },
  "language_info": {
   "codemirror_mode": {
    "name": "ipython",
    "version": 3
   },
   "file_extension": ".py",
   "mimetype": "text/x-python",
   "name": "python",
   "nbconvert_exporter": "python",
   "pygments_lexer": "ipython3",
   "version": "3.7.10"
  }
 },
 "nbformat": 4,
 "nbformat_minor": 5
}
