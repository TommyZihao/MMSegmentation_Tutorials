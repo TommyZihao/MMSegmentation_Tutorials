{
 "cells": [
  {
   "cell_type": "markdown",
   "id": "3387b888-9060-46a8-ab3a-a1fe8941a897",
   "metadata": {},
   "source": [
    "# MMDeploy模型部署-Pytorch转Pytorch转NCNN\n",
    "\n",
    "同济子豪兄 2023-7-16"
   ]
  },
  {
   "cell_type": "markdown",
   "id": "389b8643-0494-4473-abac-64ca6701571c",
   "metadata": {},
   "source": [
    "## 进入MMDeploy主目录"
   ]
  },
  {
   "cell_type": "code",
   "execution_count": 1,
   "id": "4dc2990c-69a6-4482-9bd8-04f0fcd552b3",
   "metadata": {},
   "outputs": [],
   "source": [
    "import os\n",
    "os.chdir('mmdeploy')"
   ]
  },
  {
   "cell_type": "markdown",
   "id": "3409607b-0260-4285-a0ad-16d9b2817cae",
   "metadata": {
    "tags": []
   },
   "source": [
    "## 模型转换-Pytorch转NCNN"
   ]
  },
  {
   "cell_type": "code",
   "execution_count": 2,
   "id": "c1050812-f5f9-4473-ba47-2ed6d4992520",
   "metadata": {},
   "outputs": [],
   "source": [
    "# 删除原有的文件夹（如有）\n",
    "!rm -rf mmseg2ncnn_fastscnn"
   ]
  },
  {
   "cell_type": "code",
   "execution_count": 4,
   "id": "e2167468-844f-487d-b9bd-26b249c2804f",
   "metadata": {},
   "outputs": [],
   "source": [
    "!python tools/deploy.py \\\n",
    "        configs/mmseg/segmentation_ncnn_static-512x512.py \\\n",
    "        ../mmsegmentation/Zihao-Configs/ZihaoDataset_FastSCNN_20230712.py \\\n",
    "        ../mmsegmentation/checkpoint/Zihao_FastSCNN.pth \\\n",
    "        ../mmsegmentation/data/watermelon_test1.jpg \\\n",
    "        --work-dir mmseg2ncnn_fastscnn \\\n",
    "        --dump-info"
   ]
  },
  {
   "cell_type": "markdown",
   "id": "eede1f5d-81e1-4587-baf4-5872d9971217",
   "metadata": {},
   "source": [
    "## 生成以下文件\n",
    "验证转换成功（非必需）：\n",
    "\n",
    "output_onnxruntime.jpg：用ONNX Runtime推理框架的预测结果，应与output_pytorch.jpg几乎相同\n",
    "\n",
    "output_pytorch.jpg：用原生Pytorch的预测结果，应与output_onnxruntime.jpg几乎相同\n",
    "\n",
    "detail.json：模型转ONNX的信息，用于追溯bug\n",
    "\n",
    "转换得到的模型及信息（必需）：\n",
    "\n",
    "deploy.json：模型描述，用于MMDeploy Runtime推理\n",
    "\n",
    "end2end.onnx：ONNX模型\n",
    "\n",
    "pipeline.json：模型输入、推理、后处理，每一步骤的输入输出信息"
   ]
  },
  {
   "cell_type": "code",
   "execution_count": null,
   "id": "2b4545df-e894-4d4f-a161-6c68a8c50bef",
   "metadata": {},
   "outputs": [],
   "source": []
  }
 ],
 "metadata": {
  "kernelspec": {
   "display_name": "Python 3 (ipykernel)",
   "language": "python",
   "name": "python3"
  },
  "language_info": {
   "codemirror_mode": {
    "name": "ipython",
    "version": 3
   },
   "file_extension": ".py",
   "mimetype": "text/x-python",
   "name": "python",
   "nbconvert_exporter": "python",
   "pygments_lexer": "ipython3",
   "version": "3.7.10"
  }
 },
 "nbformat": 4,
 "nbformat_minor": 5
}
