{
 "cells": [
  {
   "cell_type": "markdown",
   "id": "3f15391d-f6f3-44b7-b3b5-56dc2049690e",
   "metadata": {},
   "source": [
    "# 下载子豪兄训练好的模型权重文件\n",
    "\n",
    "同济子豪兄 2023-6-27"
   ]
  },
  {
   "cell_type": "markdown",
   "id": "dcc15291-28a3-4af3-83ad-0b24dbce43e6",
   "metadata": {},
   "source": [
    "## 将模型权重文件下载到`mmsegmentation/checkpoint`目录下\n",
    "\n",
    "链接: https://pan.baidu.com/s/11uGP96gMzU7T00Fr72DuTQ 提取码: hnoc"
   ]
  },
  {
   "cell_type": "code",
   "execution_count": null,
   "id": "6431c9a5-05ed-49f4-9e1f-8a133a3c11c0",
   "metadata": {},
   "outputs": [],
   "source": []
  }
 ],
 "metadata": {
  "kernelspec": {
   "display_name": "Python 3 (ipykernel)",
   "language": "python",
   "name": "python3"
  },
  "language_info": {
   "codemirror_mode": {
    "name": "ipython",
    "version": 3
   },
   "file_extension": ".py",
   "mimetype": "text/x-python",
   "name": "python",
   "nbconvert_exporter": "python",
   "pygments_lexer": "ipython3",
   "version": "3.7.10"
  }
 },
 "nbformat": 4,
 "nbformat_minor": 5
}
