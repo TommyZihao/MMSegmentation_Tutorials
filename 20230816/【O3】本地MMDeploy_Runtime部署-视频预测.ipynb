{
 "cells": [
  {
   "cell_type": "markdown",
   "id": "4a36abc9-47b6-4e9a-8d2c-330e64012db2",
   "metadata": {},
   "source": [
    "# 本地MMDeploy部署-视频预测\n",
    "\n",
    "同济子豪兄：https://space.bilibili.com/1900783"
   ]
  },
  {
   "cell_type": "markdown",
   "id": "8d5a59c2-fe03-4003-aee5-c081d0e23357",
   "metadata": {},
   "source": [
    "## 本代码需在终端本地运行"
   ]
  },
  {
   "cell_type": "markdown",
   "id": "47341443-35bf-4a0c-b214-41a82af6ee0f",
   "metadata": {},
   "source": [
    "## 导入工具包"
   ]
  },
  {
   "cell_type": "code",
   "execution_count": 3,
   "id": "abda64d2-c108-409b-9bc1-9c3b637decbb",
   "metadata": {},
   "outputs": [],
   "source": [
    "import cv2\n",
    "import numpy as np\n",
    "import time\n",
    "from tqdm import tqdm\n",
    "\n",
    "from mmdeploy_runtime import Segmentor\n",
    "\n",
    "import matplotlib.pyplot as plt\n",
    "%matplotlib inline"
   ]
  },
  {
   "cell_type": "markdown",
   "id": "42874287-b57d-4a1b-84df-c4bfcb3c154d",
   "metadata": {},
   "source": [
    "## 载入模型"
   ]
  },
  {
   "cell_type": "code",
   "execution_count": 4,
   "id": "770a3ebc-a554-47f0-a447-804d992fb6b0",
   "metadata": {},
   "outputs": [],
   "source": [
    "# ONNX模型路径\n",
    "seg = 'MMSeg-Watermelon-ONNX'\n",
    "\n",
    "# 计算设备\n",
    "device = 'cpu'\n",
    "# device = 'cuda'\n",
    "\n",
    "segmentor = Segmentor(seg, device)"
   ]
  },
  {
   "cell_type": "markdown",
   "id": "cb86a424-6df1-4893-ac43-ac4882597ef3",
   "metadata": {},
   "source": [
    "## 可视化配置"
   ]
  },
  {
   "cell_type": "code",
   "execution_count": 5,
   "id": "dee13f1e-a011-4b41-b807-27cd8c0fc00a",
   "metadata": {},
   "outputs": [],
   "source": [
    "palette = [\n",
    "    ['background', [127,127,127]],\n",
    "    ['red', [0,0,200]],\n",
    "    ['green', [0,200,0]],\n",
    "    ['white', [144,238,144]],\n",
    "    ['seed-black', [30,30,30]],\n",
    "    ['seed-white', [8,189,251]]\n",
    "]\n",
    "\n",
    "palette_dict = {}\n",
    "for idx, each in enumerate(palette):\n",
    "    palette_dict[idx] = each[1]"
   ]
  },
  {
   "cell_type": "code",
   "execution_count": 6,
   "id": "1e3c5934",
   "metadata": {},
   "outputs": [
    {
     "data": {
      "text/plain": [
       "{0: [127, 127, 127],\n",
       " 1: [0, 0, 200],\n",
       " 2: [0, 200, 0],\n",
       " 3: [144, 238, 144],\n",
       " 4: [30, 30, 30],\n",
       " 5: [8, 189, 251]}"
      ]
     },
     "execution_count": 6,
     "metadata": {},
     "output_type": "execute_result"
    }
   ],
   "source": [
    "palette_dict"
   ]
  },
  {
   "cell_type": "markdown",
   "id": "2eb43857-3d47-4bae-97ac-a0e458cf82c2",
   "metadata": {},
   "source": [
    "## 逐帧处理函数"
   ]
  },
  {
   "cell_type": "code",
   "execution_count": 7,
   "id": "780113b7",
   "metadata": {},
   "outputs": [],
   "source": [
    "opacity = 0.3 # 透明度，越大越接近原图"
   ]
  },
  {
   "cell_type": "code",
   "execution_count": 8,
   "id": "911460a8-dd8b-4468-9a25-b0c97b819b05",
   "metadata": {},
   "outputs": [],
   "source": [
    "def process_frame(img_bgr):\n",
    "    \n",
    "    '''\n",
    "    输入摄像头画面 bgr-array，输出图像 bgr-array\n",
    "    '''\n",
    "\n",
    "    # 语义分割推理预测\n",
    "    pred_mask = segmentor(img_bgr)\n",
    "\n",
    "    # 将预测的整数ID，映射为对应类别的颜色\n",
    "    pred_mask_bgr = np.zeros((pred_mask.shape[0], pred_mask.shape[1], 3))\n",
    "    for idx in palette_dict.keys():\n",
    "        pred_mask_bgr[np.where(pred_mask==idx)] = palette_dict[idx]\n",
    "    pred_mask_bgr = pred_mask_bgr.astype('uint8')\n",
    "\n",
    "    # 将语义分割预测图和原图叠加显示\n",
    "    img_bgr = cv2.addWeighted(img_bgr, opacity, pred_mask_bgr, 1-opacity, 0)\n",
    "    \n",
    "    return img_bgr"
   ]
  },
  {
   "cell_type": "markdown",
   "id": "f169a0c0-35d1-40e2-a11d-5e7ec6c8a9aa",
   "metadata": {},
   "source": [
    "## 视频逐帧处理（模板）"
   ]
  },
  {
   "cell_type": "code",
   "execution_count": 9,
   "id": "e36d9bd1",
   "metadata": {},
   "outputs": [],
   "source": [
    "# 视频逐帧处理代码模板\n",
    "# 不需修改任何代码，只需定义process_frame函数即可\n",
    "# 同济子豪兄 2021-7-10\n",
    "\n",
    "def generate_video(input_path='videos/robot.mp4'):\n",
    "    filehead = input_path.split('/')[-1]\n",
    "    output_path = \"out-\" + filehead\n",
    "    \n",
    "    print('视频开始处理',input_path)\n",
    "    \n",
    "    # 获取视频总帧数\n",
    "    cap = cv2.VideoCapture(input_path)\n",
    "    frame_count = 0\n",
    "    while(cap.isOpened()):\n",
    "        success, frame = cap.read()\n",
    "        frame_count += 1\n",
    "        if not success:\n",
    "            break\n",
    "    cap.release()\n",
    "    print('视频总帧数为',frame_count)\n",
    "    \n",
    "    # cv2.namedWindow('Crack Detection and Measurement Video Processing')\n",
    "    cap = cv2.VideoCapture(input_path)\n",
    "    frame_size = (cap.get(cv2.CAP_PROP_FRAME_WIDTH), cap.get(cv2.CAP_PROP_FRAME_HEIGHT))\n",
    "\n",
    "    # fourcc = int(cap.get(cv2.CAP_PROP_FOURCC))\n",
    "    # fourcc = cv2.VideoWriter_fourcc(*'XVID')\n",
    "    fourcc = cv2.VideoWriter_fourcc(*'mp4v')\n",
    "    fps = cap.get(cv2.CAP_PROP_FPS)\n",
    "\n",
    "    out = cv2.VideoWriter(output_path, fourcc, fps, (int(frame_size[0]), int(frame_size[1])))\n",
    "    \n",
    "    # 进度条绑定视频总帧数\n",
    "    with tqdm(total=frame_count-1) as pbar:\n",
    "        try:\n",
    "            while(cap.isOpened()):\n",
    "                success, frame = cap.read()\n",
    "                if not success:\n",
    "                    break\n",
    "\n",
    "                # 处理帧\n",
    "                # frame_path = './temp_frame.png'\n",
    "                # cv2.imwrite(frame_path, frame)\n",
    "                try:\n",
    "                    frame = process_frame(frame)\n",
    "                except Exception as error:\n",
    "                    print('报错！', error)\n",
    "                    pass\n",
    "                \n",
    "                if success == True:\n",
    "                    # cv2.imshow('Video Processing', frame)\n",
    "                    out.write(frame)\n",
    "\n",
    "                    # 进度条更新一帧\n",
    "                    pbar.update(1)\n",
    "\n",
    "                # if cv2.waitKey(1) & 0xFF == ord('q'):\n",
    "                    # break\n",
    "        except:\n",
    "            print('中途中断')\n",
    "            pass\n",
    "\n",
    "    cv2.destroyAllWindows()\n",
    "    out.release()\n",
    "    cap.release()\n",
    "    print('视频已保存', output_path)"
   ]
  },
  {
   "cell_type": "markdown",
   "id": "eccb873a-896b-4331-8dd1-c15ec3622f4f",
   "metadata": {},
   "source": [
    "## 视频预测"
   ]
  },
  {
   "cell_type": "code",
   "execution_count": 10,
   "id": "75a7c2bb-a2c3-4026-b858-be8b18cd0b81",
   "metadata": {},
   "outputs": [
    {
     "name": "stdout",
     "output_type": "stream",
     "text": [
      "视频开始处理 video_watermelon_3.MOV\n",
      "视频总帧数为 175\n"
     ]
    },
    {
     "name": "stderr",
     "output_type": "stream",
     "text": [
      "100%|████████████████████████████████████████████████████████████████████████████████| 174/174 [24:58<00:00,  8.61s/it]"
     ]
    },
    {
     "name": "stdout",
     "output_type": "stream",
     "text": [
      "视频已保存 out-video_watermelon_3.MOV\n"
     ]
    },
    {
     "name": "stderr",
     "output_type": "stream",
     "text": [
      "\n"
     ]
    }
   ],
   "source": [
    "generate_video(input_path='video_watermelon_3.MOV')"
   ]
  },
  {
   "cell_type": "code",
   "execution_count": null,
   "id": "e539a260-3e9a-4fc8-9091-aa8af66332d7",
   "metadata": {},
   "outputs": [],
   "source": []
  }
 ],
 "metadata": {
  "kernelspec": {
   "display_name": "Python 3 (ipykernel)",
   "language": "python",
   "name": "python3"
  },
  "language_info": {
   "codemirror_mode": {
    "name": "ipython",
    "version": 3
   },
   "file_extension": ".py",
   "mimetype": "text/x-python",
   "name": "python",
   "nbconvert_exporter": "python",
   "pygments_lexer": "ipython3",
   "version": "3.7.10"
  }
 },
 "nbformat": 4,
 "nbformat_minor": 5
}
