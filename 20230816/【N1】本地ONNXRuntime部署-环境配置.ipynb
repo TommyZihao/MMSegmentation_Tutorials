{
 "cells": [
  {
   "cell_type": "markdown",
   "id": "1482b3c6",
   "metadata": {},
   "source": [
    "# 本地ONNXRuntime部署-环境配置\n",
    "\n",
    "同济子豪兄 2023-7-18 8-20\n",
    "\n",
    "ONNXRuntime主页：https://onnxruntime.ai"
   ]
  },
  {
   "cell_type": "markdown",
   "id": "d66b5f8d",
   "metadata": {},
   "source": [
    "## 安装基础工具包"
   ]
  },
  {
   "cell_type": "code",
   "execution_count": 3,
   "id": "5929eb8b",
   "metadata": {},
   "outputs": [],
   "source": [
    "!pip install numpy pandas matplotlib tqdm opencv-python pillow onnx onnxruntime --upgrade -i https://pypi.tuna.tsinghua.edu.cn/simple"
   ]
  },
  {
   "cell_type": "markdown",
   "id": "18cf5885",
   "metadata": {},
   "source": [
    "## 验证安装成功"
   ]
  },
  {
   "cell_type": "code",
   "execution_count": 2,
   "id": "3e149299",
   "metadata": {},
   "outputs": [
    {
     "name": "stdout",
     "output_type": "stream",
     "text": [
      "ONNXRuntime 版本 1.14.1\n"
     ]
    }
   ],
   "source": [
    "import onnxruntime as ort\n",
    "print('ONNXRuntime 版本', ort.__version__)"
   ]
  },
  {
   "cell_type": "markdown",
   "id": "a4a38c7c",
   "metadata": {},
   "source": [
    "## 下载待测图像和视频文件"
   ]
  },
  {
   "cell_type": "code",
   "execution_count": 6,
   "id": "e302a3f7",
   "metadata": {},
   "outputs": [],
   "source": [
    "# 西瓜图片和视频，拍摄人：田文博\n",
    "!wget https://zihao-openmmlab.obs.cn-east-3.myhuaweicloud.com/20230130-mmseg/watermelon/data/watermelon_test1.jpg\n",
    "!wget https://zihao-openmmlab.obs.cn-east-3.myhuaweicloud.com/20230130-mmseg/watermelon/data/video_watermelon_3.mov"
   ]
  },
  {
   "cell_type": "markdown",
   "id": "71009c61",
   "metadata": {},
   "source": [
    "## 下载MMDeploy导出的ONNX模型文件\n",
    "\n",
    "\n",
    "## 解压至当前文件夹，删除压缩包"
   ]
  },
  {
   "cell_type": "code",
   "execution_count": null,
   "id": "8783c9d3",
   "metadata": {},
   "outputs": [],
   "source": []
  }
 ],
 "metadata": {
  "kernelspec": {
   "display_name": "Python 3",
   "language": "python",
   "name": "python3"
  },
  "language_info": {
   "codemirror_mode": {
    "name": "ipython",
    "version": 3
   },
   "file_extension": ".py",
   "mimetype": "text/x-python",
   "name": "python",
   "nbconvert_exporter": "python",
   "pygments_lexer": "ipython3",
   "version": "3.7.2"
  }
 },
 "nbformat": 4,
 "nbformat_minor": 5
}
