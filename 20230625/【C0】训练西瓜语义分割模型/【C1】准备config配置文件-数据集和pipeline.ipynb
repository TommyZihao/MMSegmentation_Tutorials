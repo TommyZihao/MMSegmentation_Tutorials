{
 "cells": [
  {
   "cell_type": "markdown",
   "id": "c000cb3c-bf01-4635-a216-d0a25291943e",
   "metadata": {},
   "source": [
    "# 准备config配置文件-数据集和pipeline\n",
    "\n",
    "同济子豪兄 2023-6-26"
   ]
  },
  {
   "cell_type": "markdown",
   "id": "56aefedc-eb8a-4f34-8944-c6f26bb4c5e0",
   "metadata": {
    "tags": []
   },
   "source": [
    "## 进入MMSegmentation主目录"
   ]
  },
  {
   "cell_type": "code",
   "execution_count": 1,
   "id": "426b584c-a598-416b-8eb7-cffcdafa3312",
   "metadata": {},
   "outputs": [],
   "source": [
    "import os\n",
    "os.chdir('../mmsegmentation')"
   ]
  },
  {
   "cell_type": "code",
   "execution_count": 2,
   "id": "613ee846-4059-4509-b063-5b443ad49305",
   "metadata": {},
   "outputs": [
    {
     "data": {
      "text/plain": [
       "'/home/featurize/work/MMSegmentation教程20230625/mmsegmentation'"
      ]
     },
     "execution_count": 2,
     "metadata": {},
     "output_type": "execute_result"
    }
   ],
   "source": [
    "os.getcwd()"
   ]
  },
  {
   "cell_type": "markdown",
   "id": "16ea93b6-d61b-4478-ba32-a65a7be24a76",
   "metadata": {},
   "source": [
    "## 一：数据集配置文件\n",
    "\n",
    "定义数据集类（各类别名称及配色）"
   ]
  },
  {
   "cell_type": "code",
   "execution_count": 3,
   "id": "54a949e3-a33f-4b32-8fd4-ae893c07cc8b",
   "metadata": {},
   "outputs": [
    {
     "name": "stdout",
     "output_type": "stream",
     "text": [
      "--2023-06-26 10:27:38--  https://zihao-openmmlab.obs.cn-east-3.myhuaweicloud.com/20230130-mmseg/watermelon/configs/ZihaoDataset.py\n",
      "正在连接 172.16.0.13:5848... 已连接。\n",
      "已发出 Proxy 请求，正在等待回应... 200 OK\n",
      "长度： 829 [binary/octet-stream]\n",
      "正在保存至: “mmseg/datasets/ZihaoDataset.py”\n",
      "\n",
      "ZihaoDataset.py     100%[===================>]     829  --.-KB/s    用时 0s      \n",
      "\n",
      "2023-06-26 10:27:38 (16.2 MB/s) - 已保存 “mmseg/datasets/ZihaoDataset.py” [829/829])\n",
      "\n"
     ]
    }
   ],
   "source": [
    "!rm -rf mmseg/datasets/ZihaoDataset.py # 删除原有文件\n",
    "!wget https://zihao-openmmlab.obs.cn-east-3.myhuaweicloud.com/20230130-mmseg/watermelon/configs/ZihaoDataset.py -P mmseg/datasets\n"
   ]
  },
  {
   "cell_type": "markdown",
   "id": "92604575-37e8-47cb-983f-ff9e636397b1",
   "metadata": {},
   "source": [
    "## 二：注册数据集类"
   ]
  },
  {
   "cell_type": "code",
   "execution_count": 4,
   "id": "b3a64f85-32ed-44e8-b166-98fb9874c67b",
   "metadata": {},
   "outputs": [
    {
     "name": "stdout",
     "output_type": "stream",
     "text": [
      "--2023-06-26 10:27:38--  https://zihao-openmmlab.obs.cn-east-3.myhuaweicloud.com/20230130-mmseg/watermelon/configs/__init__.py\n",
      "正在连接 172.16.0.13:5848... 已连接。\n",
      "已发出 Proxy 请求，正在等待回应... 200 OK\n",
      "长度： 2620 (2.6K) [binary/octet-stream]\n",
      "正在保存至: “mmseg/datasets/__init__.py”\n",
      "\n",
      "__init__.py         100%[===================>]   2.56K  --.-KB/s    用时 0s      \n",
      "\n",
      "2023-06-26 10:27:39 (45.1 MB/s) - 已保存 “mmseg/datasets/__init__.py” [2620/2620])\n",
      "\n"
     ]
    }
   ],
   "source": [
    "!rm -rf mmseg/datasets/__init__.py # 删除原有文件\n",
    "!wget https://zihao-openmmlab.obs.cn-east-3.myhuaweicloud.com/20230130-mmseg/watermelon/configs/__init__.py -P mmseg/datasets\n"
   ]
  },
  {
   "cell_type": "markdown",
   "id": "9fc5a127-4fc6-4834-a991-b19e9ce62fb9",
   "metadata": {},
   "source": [
    "## 三：pipeline配置文件\n",
    "\n",
    "数据集路径、预处理、后处理、DataLoader、测试集评估指标"
   ]
  },
  {
   "cell_type": "code",
   "execution_count": 5,
   "id": "563163df-d556-4a56-b84d-28f9f359b01a",
   "metadata": {},
   "outputs": [
    {
     "name": "stdout",
     "output_type": "stream",
     "text": [
      "--2023-06-26 10:27:39--  https://zihao-openmmlab.obs.cn-east-3.myhuaweicloud.com/20230130-mmseg/watermelon/configs/ZihaoDataset_pipeline.py\n",
      "正在连接 172.16.0.13:5848... 已连接。\n",
      "已发出 Proxy 请求，正在等待回应... 200 OK\n",
      "长度： 2461 (2.4K) [binary/octet-stream]\n",
      "正在保存至: “configs/_base_/datasets/ZihaoDataset_pipeline.py”\n",
      "\n",
      "ZihaoDataset_pipeli 100%[===================>]   2.40K  --.-KB/s    用时 0s      \n",
      "\n",
      "2023-06-26 10:27:39 (25.3 MB/s) - 已保存 “configs/_base_/datasets/ZihaoDataset_pipeline.py” [2461/2461])\n",
      "\n"
     ]
    }
   ],
   "source": [
    "!rm -rf configs/_base_/datasets/ZihaoDataset_pipeline.py\n",
    "!wget https://zihao-openmmlab.obs.cn-east-3.myhuaweicloud.com/20230130-mmseg/watermelon/configs/ZihaoDataset_pipeline.py -P configs/_base_/datasets"
   ]
  },
  {
   "cell_type": "code",
   "execution_count": null,
   "id": "1aad6049-ca6a-410d-b0cc-00b74e306367",
   "metadata": {},
   "outputs": [],
   "source": []
  }
 ],
 "metadata": {
  "kernelspec": {
   "display_name": "Python 3 (ipykernel)",
   "language": "python",
   "name": "python3"
  },
  "language_info": {
   "codemirror_mode": {
    "name": "ipython",
    "version": 3
   },
   "file_extension": ".py",
   "mimetype": "text/x-python",
   "name": "python",
   "nbconvert_exporter": "python",
   "pygments_lexer": "ipython3",
   "version": "3.7.10"
  }
 },
 "nbformat": 4,
 "nbformat_minor": 5
}
