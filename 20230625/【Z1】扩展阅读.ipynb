{
 "cells": [
  {
   "cell_type": "markdown",
   "id": "62e92ff5-095c-42bb-a21b-e9746e7682f6",
   "metadata": {
    "tags": []
   },
   "source": [
    "# 扩展阅读\n",
    "\n",
    "## 教程相关\n",
    "\n",
    "OpenMMLab主页：https://openmmlab.com\n",
    "\n",
    "OpenMMLab各算法库介绍：https://www.bilibili.com/video/BV1js4y1i72P\n",
    "\n",
    "MMSegmentation代码教程：https://github.com/TommyZihao/MMSegmentation_Tutorials\n",
    "\n",
    "Cityscapes语义分割数据集：https://www.cityscapes-dataset.com\n",
    "\n",
    "代码测试[云GPU环境](https://featurize.cn?s=d7ce99f842414bfcaea5662a97581bd1)：GPU RTX 3060、CUDA v11.2\n",
    "\n",
    "## MMSegmentation相关\n",
    "\n",
    "MMSegmentation主页：https://github.com/open-mmlab/mmsegmentation\n",
    "\n",
    "[超详细！手把手带你轻松用 MMSegmentation 跑语义分割数据集](https://zhuanlan.zhihu.com/p/525422379)\n",
    "\n",
    "[超详细！带你轻松掌握 MMSegmentation 整体构建流程](https://zhuanlan.zhihu.com/p/520397255)\n",
    "\n",
    "[写给 MMSegmentation 工具箱新手的避坑指南](https://zhuanlan.zhihu.com/p/552134716)\n",
    "\n",
    "## 语义分割学习相关\n",
    "\n",
    "[语义分割该如何走下去？](https://www.zhihu.com/answer/2532479123)\n",
    "\n",
    "[研究生图像分割怎么学习？](https://www.zhihu.com/answer/2188347132)\n",
    "\n",
    "[大佬们，我刚开始接触图像分割，对于图像分割深度学习这块一头雾水，可以给出一个从零开始学习的路线吗？](https://www.zhihu.com/answer/2120515790)\n",
    "\n",
    "[为啥U-Net训练数据得到的是全黑的图？](https://www.zhihu.com/answer/1650919034)\n",
    "\n",
    "[图像语义分割如何下手？算法如何实现？](https://www.zhihu.com/answer/1625973937)\n",
    "\n",
    "[图像处理方向打算做分割，导师让着手实验，从最简单的单层网络开始入手，有没有师兄师姐建议怎么开始呀？](https://www.zhihu.com/answer/1624600717)\n",
    "\n",
    "[有关语义分割的奇技淫巧有哪些？](https://www.zhihu.com/answer/1621508656)\n",
    "\n",
    "[语义分割该如何走下去？](https://www.zhihu.com/answer/2532479123)\n",
    "\n",
    "## 医学图像分割相关\n",
    "\n",
    "[医学图像分割请问要分割出目标，想先确定目标区域，然后在区域中提取目标应该怎么预处理图片呢？](https://www.zhihu.com/answer/1916793153)\n",
    "\n",
    "[刚上研一，方向是医学影像处理，课题是关于分割的，但是毫无头绪，求问怎么学习图像分割？](https://www.zhihu.com/answer/1860816906)\n",
    "\n",
    "[研一学生，准备做有关医学图像分割的内容，想请教一下大家，创新点都有从哪些方面研究，谢谢大家了！?](https://www.zhihu.com/answer/1841253967)"
   ]
  },
  {
   "cell_type": "code",
   "execution_count": null,
   "id": "cb91ccf8-c4ab-4585-bb92-d22abaf54c98",
   "metadata": {},
   "outputs": [],
   "source": []
  }
 ],
 "metadata": {
  "kernelspec": {
   "display_name": "Python 3 (ipykernel)",
   "language": "python",
   "name": "python3"
  },
  "language_info": {
   "codemirror_mode": {
    "name": "ipython",
    "version": 3
   },
   "file_extension": ".py",
   "mimetype": "text/x-python",
   "name": "python",
   "nbconvert_exporter": "python",
   "pygments_lexer": "ipython3",
   "version": "3.7.10"
  }
 },
 "nbformat": 4,
 "nbformat_minor": 5
}
