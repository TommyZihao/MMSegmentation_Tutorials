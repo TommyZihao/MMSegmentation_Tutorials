{
 "cells": [
  {
   "cell_type": "markdown",
   "id": "3f15391d-f6f3-44b7-b3b5-56dc2049690e",
   "metadata": {},
   "source": [
    "# 下载子豪兄训练好的模型权重文件\n",
    "\n",
    "同济子豪兄 2023-6-27"
   ]
  },
  {
   "cell_type": "markdown",
   "id": "b3f751ef-a7fa-4a01-87a6-026c902e7cef",
   "metadata": {
    "tags": []
   },
   "source": [
    "## 进入 mmsegmentation 主目录"
   ]
  },
  {
   "cell_type": "code",
   "execution_count": 1,
   "id": "767d7b94-68a8-4206-92f4-c13b0d5b44b3",
   "metadata": {},
   "outputs": [],
   "source": [
    "import os\n",
    "os.chdir('mmsegmentation')"
   ]
  },
  {
   "cell_type": "markdown",
   "id": "d664f3f3-2dd6-4a7f-9398-bab46f150958",
   "metadata": {},
   "source": [
    "## 西瓜语义分割-PSPNet"
   ]
  },
  {
   "cell_type": "code",
   "execution_count": null,
   "id": "7e0b9e41-20ae-4ba7-a333-3aa0b21223d3",
   "metadata": {},
   "outputs": [],
   "source": [
    "!wget https://zihao-openmmlab.obs.cn-east-3.myhuaweicloud.com/20230130-mmseg/watermelon/ckpt/Zihao_PSPNet.pth -P checkpoint"
   ]
  },
  {
   "cell_type": "markdown",
   "id": "070c2df7-a11c-4689-b4fb-be04ef3902ed",
   "metadata": {},
   "source": [
    "## 西瓜语义分割-Segformer"
   ]
  },
  {
   "cell_type": "code",
   "execution_count": null,
   "id": "5ca30d7b-3484-4661-872d-8370f10aad87",
   "metadata": {},
   "outputs": [],
   "source": [
    "!wget https://zihao-openmmlab.obs.cn-east-3.myhuaweicloud.com/20230130-mmseg/watermelon/ckpt/Zihao_Segformer.pth -P checkpoint"
   ]
  },
  {
   "cell_type": "code",
   "execution_count": null,
   "id": "6431c9a5-05ed-49f4-9e1f-8a133a3c11c0",
   "metadata": {},
   "outputs": [],
   "source": []
  }
 ],
 "metadata": {
  "kernelspec": {
   "display_name": "Python 3 (ipykernel)",
   "language": "python",
   "name": "python3"
  },
  "language_info": {
   "codemirror_mode": {
    "name": "ipython",
    "version": 3
   },
   "file_extension": ".py",
   "mimetype": "text/x-python",
   "name": "python",
   "nbconvert_exporter": "python",
   "pygments_lexer": "ipython3",
   "version": "3.7.10"
  }
 },
 "nbformat": 4,
 "nbformat_minor": 5
}
