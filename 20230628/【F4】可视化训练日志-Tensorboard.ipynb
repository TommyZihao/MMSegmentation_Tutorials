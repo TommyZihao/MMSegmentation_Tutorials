{
 "cells": [
  {
   "cell_type": "markdown",
   "id": "0c136516-29cd-4fe7-bff2-0d43ed8f4937",
   "metadata": {},
   "source": [
    "# 可视化训练日志-Tensorboard\n",
    "\n",
    "使用可视化工具Tensorboard监控训练过程\n",
    "\n",
    "同济子豪兄：https://space.bilibili.com/1900783"
   ]
  },
  {
   "cell_type": "markdown",
   "id": "cd870106-5f75-44bd-9c8b-1365fc62fc99",
   "metadata": {},
   "source": [
    "## 安装TensorBoard"
   ]
  },
  {
   "cell_type": "code",
   "execution_count": 2,
   "id": "64c709f1-d244-497c-81b1-47e110e4ccd8",
   "metadata": {},
   "outputs": [],
   "source": [
    "!pip install pip install tensorboardX future tensorboard \"protobuf<=3.20.1\" -i https://pypi.tuna.tsinghua.edu.cn/simple"
   ]
  },
  {
   "cell_type": "markdown",
   "id": "865a3ea9-04fa-4d97-830f-8d4ca998d2cf",
   "metadata": {},
   "source": [
    "## 进入MMSegmentation主目录"
   ]
  },
  {
   "cell_type": "code",
   "execution_count": 1,
   "id": "7f50ec01-d4f2-4009-88d9-a8fb96d605b8",
   "metadata": {},
   "outputs": [],
   "source": [
    "import os\n",
    "os.chdir('mmsegmentation')"
   ]
  },
  {
   "cell_type": "code",
   "execution_count": 2,
   "id": "2f35dc00-8085-4e9b-b79d-8616ddbce710",
   "metadata": {},
   "outputs": [
    {
     "data": {
      "text/plain": [
       "'/home/featurize/work/MMSegmentation教程20230625/mmsegmentation'"
      ]
     },
     "execution_count": 2,
     "metadata": {},
     "output_type": "execute_result"
    }
   ],
   "source": [
    "os.getcwd()"
   ]
  },
  {
   "cell_type": "markdown",
   "id": "54a56150-509d-4375-bc9d-fac24d75adf2",
   "metadata": {},
   "source": [
    "## 在配置文件 `mmsegmentation/configs/_base_/default_runtime.py` 中添加 vis_backend 的配置\n",
    "\n",
    "```python\n",
    "vis_backends = [\n",
    "    dict(type='LocalVisBackend'),\n",
    "    dict(type='TensorboardVisBackend')\n",
    "]\n",
    "visualizer = dict(\n",
    "    type='SegLocalVisualizer', vis_backends=vis_backends, name='visualizer')\n",
    "```"
   ]
  },
  {
   "cell_type": "markdown",
   "id": "32dc43e5-350a-4254-a701-bcf1cb4a7fad",
   "metadata": {},
   "source": [
    "## 云服务器端口转发\n",
    "\n",
    "在实例上启动你需要使用的 Web 服务\n",
    "\n",
    "```shell\n",
    "python -m http.server\n",
    "```\n",
    "\n",
    "```shell\n",
    "featurize port export 10097\n",
    "```\n",
    "\n",
    "获得10097端口公网转发端口19486"
   ]
  },
  {
   "cell_type": "markdown",
   "id": "b6d18013-41a7-4421-8cef-2904593fb410",
   "metadata": {},
   "source": [
    "## 开始训练之后，开启TensorBoard可视化\n",
    "\n",
    "--port 是本机可以使用的端口\n",
    "\n",
    "--bind_all 是将 tensorboard 的进程暴露为外部可以访问的公网 http 服务，这样在外部就可以通过 http://ip:端口访问 tensorboard"
   ]
  },
  {
   "cell_type": "code",
   "execution_count": 1,
   "id": "243540e5-7487-4222-b08a-77d805203f29",
   "metadata": {},
   "outputs": [],
   "source": [
    "!tensorboard --logdir work_dirs/ZihaoDataset-PSPNet/20230628_172634/vis_data --port 10097 --bind_all"
   ]
  },
  {
   "cell_type": "markdown",
   "id": "7635ef9e-354c-4d71-89f1-b84c58928fc0",
   "metadata": {},
   "source": [
    "## 访问公网IP\n",
    "\n",
    "http://workspace.featurize.cn:19486"
   ]
  },
  {
   "cell_type": "code",
   "execution_count": null,
   "id": "80acb1b6-e816-40ef-a1bd-b02e773c3cd1",
   "metadata": {},
   "outputs": [],
   "source": []
  }
 ],
 "metadata": {
  "kernelspec": {
   "display_name": "Python 3 (ipykernel)",
   "language": "python",
   "name": "python3"
  },
  "language_info": {
   "codemirror_mode": {
    "name": "ipython",
    "version": 3
   },
   "file_extension": ".py",
   "mimetype": "text/x-python",
   "name": "python",
   "nbconvert_exporter": "python",
   "pygments_lexer": "ipython3",
   "version": "3.7.10"
  }
 },
 "nbformat": 4,
 "nbformat_minor": 5
}
