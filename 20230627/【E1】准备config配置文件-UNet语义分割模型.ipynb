{
 "cells": [
  {
   "cell_type": "markdown",
   "metadata": {},
   "source": [
    "# 准备config配置文件-UNet语义分割模型\n",
    "\n",
    "同济子豪兄 2023-2-13 6-11 6-25"
   ]
  },
  {
   "cell_type": "markdown",
   "metadata": {
    "tags": []
   },
   "source": [
    "## 进入MMSegmentation主目录"
   ]
  },
  {
   "cell_type": "code",
   "execution_count": 1,
   "metadata": {
    "is_executing": true
   },
   "outputs": [],
   "source": [
    "import os\n",
    "os.chdir('mmsegmentation')"
   ]
  },
  {
   "cell_type": "markdown",
   "metadata": {},
   "source": [
    "> 也可以选择`configs`目录里的其它模型，但需要将里面的数据集配置文件修改为`../_base_/datasets/ZihaoDataset_pipeline.py`"
   ]
  },
  {
   "cell_type": "markdown",
   "metadata": {},
   "source": [
    "## 载入模型config配置文件"
   ]
  },
  {
   "cell_type": "code",
   "execution_count": 2,
   "metadata": {
    "id": "Wwnj9tRzqX_A"
   },
   "outputs": [],
   "source": [
    "from mmengine import Config\n",
    "cfg = Config.fromfile('./configs/unet/unet-s5-d16_fcn_4xb4-160k_cityscapes-512x1024.py')\n",
    "dataset_cfg = Config.fromfile('./configs/_base_/datasets/ZihaoDataset_pipeline.py')"
   ]
  },
  {
   "cell_type": "markdown",
   "metadata": {},
   "source": [
    "## 修改config配置文件"
   ]
  },
  {
   "cell_type": "code",
   "execution_count": 3,
   "metadata": {},
   "outputs": [],
   "source": [
    "# 类别个数\n",
    "NUM_CLASS = 6"
   ]
  },
  {
   "cell_type": "code",
   "execution_count": 4,
   "metadata": {
    "colab": {
     "base_uri": "https://localhost:8080/"
    },
    "id": "eyKnYC1Z7iCV",
    "outputId": "6195217b-187f-4675-994b-ba90d8bb3078"
   },
   "outputs": [],
   "source": [
    "cfg.norm_cfg = dict(type='BN', requires_grad=True) # 只使用GPU时，BN取代SyncBN\n",
    "cfg.crop_size = (256, 256)\n",
    "cfg.model.data_preprocessor.size = cfg.crop_size\n",
    "cfg.model.data_preprocessor.test_cfg = dict(size_divisor=128)\n",
    "cfg.model.backbone.norm_cfg = cfg.norm_cfg\n",
    "cfg.model.decode_head.norm_cfg = cfg.norm_cfg\n",
    "cfg.model.auxiliary_head.norm_cfg = cfg.norm_cfg\n",
    "\n",
    "# 模型 decode/auxiliary 输出头，指定为类别个数\n",
    "cfg.model.decode_head.num_classes = NUM_CLASS\n",
    "cfg.model.auxiliary_head.num_classes = NUM_CLASS\n",
    "\n",
    "# Dataloader\n",
    "cfg.train_dataloader = dataset_cfg.train_dataloader\n",
    "cfg.val_dataloader = dataset_cfg.val_dataloader\n",
    "cfg.test_dataloader = dataset_cfg.val_dataloader\n",
    "\n",
    "# 训练 Batch Size\n",
    "cfg.train_dataloader.batch_size = 4\n",
    "\n",
    "# Evaluator\n",
    "cfg.val_evaluator = dataset_cfg.val_evaluator\n",
    "cfg.test_evaluator = dataset_cfg.test_evaluator\n",
    "\n",
    "# 结果保存目录\n",
    "cfg.work_dir = './work_dirs/ZihaoDataset-UNet'\n",
    "\n",
    "cfg.train_cfg.max_iters = 40000 # 训练迭代次数\n",
    "\n",
    "cfg.train_cfg.val_interval = 500 # 评估模型间隔\n",
    "\n",
    "cfg.default_hooks.logger.interval = 100 # 日志记录间隔\n",
    "\n",
    "cfg.default_hooks.checkpoint.interval = 2500 # 模型权重保存间隔\n",
    "\n",
    "cfg.default_hooks.checkpoint.max_keep_ckpts = 1 # 最多保留几个模型权重\n",
    "\n",
    "cfg.default_hooks.checkpoint.save_best = 'mIoU' # 保留指标最高的模型权重\n",
    "\n",
    "# 随机数种子\n",
    "cfg['randomness'] = dict(seed=0)"
   ]
  },
  {
   "cell_type": "markdown",
   "metadata": {},
   "source": [
    "## 查看完整config配置文件"
   ]
  },
  {
   "cell_type": "code",
   "execution_count": 5,
   "metadata": {},
   "outputs": [],
   "source": [
    "# print(cfg.pretty_text)"
   ]
  },
  {
   "cell_type": "markdown",
   "metadata": {},
   "source": [
    "## 保存最终的config配置文件"
   ]
  },
  {
   "cell_type": "code",
   "execution_count": 6,
   "metadata": {},
   "outputs": [],
   "source": [
    "cfg.dump('ZihaoDataset_UNet_20230626.py')"
   ]
  },
  {
   "cell_type": "code",
   "execution_count": null,
   "metadata": {},
   "outputs": [],
   "source": []
  }
 ],
 "metadata": {
  "accelerator": "GPU",
  "colab": {
   "collapsed_sections": [],
   "include_colab_link": true,
   "name": "MMSegmentation Tutorial.ipynb",
   "provenance": []
  },
  "kernelspec": {
   "display_name": "Python 3 (ipykernel)",
   "language": "python",
   "name": "python3"
  },
  "language_info": {
   "codemirror_mode": {
    "name": "ipython",
    "version": 3
   },
   "file_extension": ".py",
   "mimetype": "text/x-python",
   "name": "python",
   "nbconvert_exporter": "python",
   "pygments_lexer": "ipython3",
   "version": "3.7.10"
  },
  "pycharm": {
   "stem_cell": {
    "cell_type": "raw",
    "metadata": {
     "collapsed": false
    },
    "source": []
   }
  },
  "vscode": {
   "interpreter": {
    "hash": "20d4b83e0c8b3730b580c42434163d64f4b735d580303a8fade7c849d4d29eba"
   }
  }
 },
 "nbformat": 4,
 "nbformat_minor": 4
}
