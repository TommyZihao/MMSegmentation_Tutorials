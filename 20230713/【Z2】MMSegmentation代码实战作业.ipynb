{
 "cells": [
  {
   "cell_type": "markdown",
   "id": "ee22d47d-e399-4bd9-adb9-12c3c8be2696",
   "metadata": {},
   "source": [
    "# MMSegmentation代码实战作业\n",
    "\n",
    "张子豪 2023-2-8 6-11"
   ]
  },
  {
   "cell_type": "markdown",
   "id": "92c0a508-e57f-4447-9485-829df60896fd",
   "metadata": {
    "tags": []
   },
   "source": [
    "## 使用MMSegmentation，在自己的数据集上，训练语义分割模型。\n",
    "\n",
    "- 数据集标注（可选）\n",
    "\n",
    "使用Labelme、LabelU等数据标注工具，标注多类别语义分割数据集，并转换为Mask灰度图格式。\n",
    "\n",
    "- 数据集整理\n",
    "\n",
    "划分训练集、测试集\n",
    "\n",
    "- 使用MMSegmentation训练语义分割模型\n",
    "\n",
    "在MMSegmentation中，指定预训练语义分割模型，配置config文件，修改类别数、学习率。\n",
    "\n",
    "- 用训练得到的模型预测\n",
    "\n",
    "获得测试集图片或新图片的语义分割预测结果，对结果进行可视化和后处理。\n",
    "\n",
    "- 在测试集上评估算法的速度和精度性能\n",
    "\n",
    "- 使用MMDeploy部署语义分割模型（可选）"
   ]
  },
  {
   "cell_type": "markdown",
   "id": "d2444b8f-ef97-4900-a6a9-3e3e3607fd87",
   "metadata": {},
   "source": [
    "## 推荐使用数据集\n",
    "\n",
    "- 单类别\n",
    "\n",
    "组织病理切片肾小球：https://www.kaggle.com/datasets/baesiann/glomeruli-hubmap-external-1024x1024\n",
    "\n",
    "- 多类别\n",
    "\n",
    "迪拜卫星航拍六类别：https://www.kaggle.com/datasets/humansintheloop/semantic-segmentation-of-aerial-imagery"
   ]
  },
  {
   "cell_type": "markdown",
   "id": "eba4dd46-1ecb-4c96-9be7-2293d838c993",
   "metadata": {
    "tags": []
   },
   "source": [
    "## 其它单类别语义分割数据集\n",
    "\n",
    "乳腺癌：https://www.kaggle.com/datasets/aryashah2k/breast-ultrasound-images-dataset\n",
    "\n",
    "电子显微镜粒子：https://www.kaggle.com/datasets/batuhanyil/electron-microscopy-particle-segmentation\n",
    "\n",
    "农作物病虫害叶片：https://www.kaggle.com/datasets/fakhrealam9537/leaf-disease-segmentation-dataset\n",
    "\n",
    "农作物地块：https://www.kaggle.com/datasets/khlaifiabilel/pastis\n",
    "\n",
    "洪水航拍区域：https://www.kaggle.com/datasets/faizalkarim/flood-area-segmentation?select=Image\n",
    "\n",
    "指甲：https://www.kaggle.com/datasets/vpapenko/nails-segmentation\n",
    "\n",
    "水下场景：https://www.kaggle.com/datasets/ashish2001/semantic-segmentation-of-underwater-imagery-suim\n",
    "\n",
    "西红柿种子：https://www.kaggle.com/datasets/juanma9901/tomatoseedsdatasetjm\n",
    "\n",
    "卫星建筑物：https://www.kaggle.com/datasets/hyyyrwang/buildings-dataset\n",
    "\n",
    "荧光显微镜小鼠脑切片发光神经元-实例分割：https://www.kaggle.com/datasets/nbroad/fluorescent-neuronal-cells\n",
    "\n",
    "混凝土裂缝：https://www.kaggle.com/datasets/jakubniemiec/concrete-crack-images\n",
    "\n",
    "核磁共振脑瘤分割：https://www.kaggle.com/datasets/awsaf49/brats2020-training-data\n",
    "\n",
    "腹部CT肝脏病变分割：https://www.kaggle.com/datasets/andrewmvd/liver-tumor-segmentation\n",
    "\n",
    "脑部神经胶质瘤核磁共振：https://www.kaggle.com/datasets/mateuszbuda/lgg-mri-segmentation\n",
    "\n",
    "## 其它多类别语义分割数据集\n",
    "\n",
    "高分辨率航拍-多类别：https://www.kaggle.com/datasets/titan15555/uavid-semantic-segmentation-dataset\n",
    "\n",
    "无人机航拍：https://www.kaggle.com/datasets/bulentsiyah/semantic-drone-dataset\n",
    "\n",
    "衣物：https://www.kaggle.com/datasets/rajkumarl/people-clothing-segmentation\n",
    "\n",
    "海洋生物：https://www.kaggle.com/datasets/crowww/a-large-scale-fish-dataset\n",
    "\n",
    "腿和脚趾：https://www.kaggle.com/datasets/tapakah68/legs-segmentation\n",
    "\n",
    "无人机航拍：https://www.kaggle.com/datasets/santurini/semantic-segmentation-drone-dataset\n",
    "\n",
    "## 其它图像分类数据集\n",
    "\n",
    "气胸：https://www.kaggle.com/c/siim-acr-pneumothorax-segmentation"
   ]
  },
  {
   "cell_type": "code",
   "execution_count": null,
   "id": "378fb117-164b-4ec2-bdbe-b58de7a9bdeb",
   "metadata": {},
   "outputs": [],
   "source": []
  }
 ],
 "metadata": {
  "kernelspec": {
   "display_name": "Python 3 (ipykernel)",
   "language": "python",
   "name": "python3"
  },
  "language_info": {
   "codemirror_mode": {
    "name": "ipython",
    "version": 3
   },
   "file_extension": ".py",
   "mimetype": "text/x-python",
   "name": "python",
   "nbconvert_exporter": "python",
   "pygments_lexer": "ipython3",
   "version": "3.7.10"
  }
 },
 "nbformat": 4,
 "nbformat_minor": 5
}
