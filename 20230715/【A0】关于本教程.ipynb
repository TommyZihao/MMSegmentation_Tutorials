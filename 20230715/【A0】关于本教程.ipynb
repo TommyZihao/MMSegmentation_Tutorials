{
 "cells": [
  {
   "cell_type": "markdown",
   "id": "4219b911-3e91-4ed5-bf03-e89336c24be9",
   "metadata": {
    "tags": []
   },
   "source": [
    "# 关于本教程\n",
    "\n",
    "2023-1-11 2023-2-13 2023-6-12 2023-6-25 2023-6-30 2023-7-13\n",
    "\n",
    "## 概述\n",
    "\n",
    "以西瓜红瓤、白籽、黑籽、白皮、绿壳语义分割为例，结合OpenMMLab开源语义分割算法库MMSegmentation，全面详细讲解项目全流程：\n",
    "\n",
    "- 数据集：Labelme标注数据集、SAM分割一切视觉大模型辅助标注、整理标注格式为mask格式、可视化探索数据集\n",
    "\n",
    "- 使用MMSegmentation预训练的语义分割模型，对街景图片和视频做预测\n",
    "\n",
    "- 语义分割：分别训练UNet、DeepLabV3+、PSPNet、KNet、Segformer、Mask2Former语义分割算法，在测试集评估性能\n",
    "\n",
    "- 使用新训练得到的语义分割模型，预测新的图像、视频、摄像头实时画面\n",
    "\n",
    "- 使用OpenMMLab模型部署工具包MMDeploy，将训练得到的Pytorch模型转为NCNN模型，部署在本地PC终端和安卓手机终端\n",
    "\n",
    "- 你可以把西瓜语义分割数据集换成你自己的语义分割数据集，即可完成Kaggle血管语义分割竞赛、组织病理切片肾小球语义分割等自己的项目\n",
    "\n",
    "代码教程地址：https://github.com/TommyZihao/MMSegmentation_Tutorials\n",
    "\n",
    "视频教程：https://space.bilibili.com/1900783\n",
    "\n",
    "## 作者\n",
    "\n",
    "张子豪（同济子豪兄）：https://github.com/TommyZihao\n",
    "\n",
    "## OpenMMLab\n",
    "\n",
    "OpenMMLab主页：https://openmmlab.com\n",
    "\n",
    "OpenMMLab各算法库介绍：https://www.bilibili.com/video/BV1js4y1i72P\n",
    "\n",
    "OpenMMLab开源语义分割算法库MMSegmentation：https://github.com/open-mmlab/mmsegmentation\n",
    "\n",
    "## MMSegmentation/语义分割/遥感/医疗交流群\n",
    "\n",
    "添加喵喵小助手微信号：OpenMMLabwx 回复 子豪兄西瓜语义分割\n",
    "\n",
    "免费加入交流群，有问必答\n",
    "\n",
    "## 特别感谢\n",
    "\n",
    "谢昕辰：https://github.com/xiexinch\n",
    "\n",
    "菜狗闻星：https://github.com/vansin\n",
    "\n",
    "田文博：https://github.com/wenbo0117\n",
    "\n",
    "AI算力云GPU平台Featurize（公众号 人工智能小技巧 回复 gpu）"
   ]
  },
  {
   "cell_type": "code",
   "execution_count": null,
   "id": "ea14604c-6666-4305-ac0e-fd4e738f190d",
   "metadata": {},
   "outputs": [],
   "source": []
  }
 ],
 "metadata": {
  "kernelspec": {
   "display_name": "Python 3 (ipykernel)",
   "language": "python",
   "name": "python3"
  },
  "language_info": {
   "codemirror_mode": {
    "name": "ipython",
    "version": 3
   },
   "file_extension": ".py",
   "mimetype": "text/x-python",
   "name": "python",
   "nbconvert_exporter": "python",
   "pygments_lexer": "ipython3",
   "version": "3.7.10"
  }
 },
 "nbformat": 4,
 "nbformat_minor": 5
}
