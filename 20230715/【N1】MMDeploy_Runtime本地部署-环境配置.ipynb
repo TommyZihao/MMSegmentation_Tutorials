{
 "cells": [
  {
   "cell_type": "markdown",
   "id": "6da8d1fb-60f6-477c-ab2b-088cbc632c77",
   "metadata": {},
   "source": [
    "# MMDeploy_Runtime本地部署-环境配置\n",
    "\n",
    "同济子豪兄 2023-5-12 5-26 7-13\n",
    "\n",
    "特别感谢 MMDeploy 陈鑫：https://github.com/irexyc"
   ]
  },
  {
   "cell_type": "markdown",
   "id": "5268f109-afff-4d45-ad05-9818fd04b618",
   "metadata": {},
   "source": [
    "## 本代码需在终端本地运行"
   ]
  },
  {
   "cell_type": "markdown",
   "id": "a9098e6f-17f3-4349-8f06-8755733d9f41",
   "metadata": {},
   "source": [
    "## 安装Miniconda\n",
    "\n",
    "https://docs.conda.io/en/latest/miniconda.html"
   ]
  },
  {
   "cell_type": "markdown",
   "id": "fd82134a-0598-4045-8e20-f1c643e7eb56",
   "metadata": {},
   "source": [
    "## 配置环境\n",
    "\n",
    "```shell\n",
    "\n",
    "conda install nb_conda_kernels -y\n",
    "\n",
    "conda create -n mmseg python=3.8 -y\n",
    "\n",
    "conda activate mmseg\n",
    "\n",
    "conda install ipykernel -y\n",
    "\n",
    "ipython kernel install --user --name=mmseg\n",
    "\n",
    "jupyter notebook\n",
    "```"
   ]
  },
  {
   "cell_type": "markdown",
   "id": "c3b364aa-ebe6-4325-8b65-e313864b83ae",
   "metadata": {},
   "source": [
    "## 打开每一个notebook后，都需要切换kernel为`mmseg`虚拟环境"
   ]
  },
  {
   "cell_type": "markdown",
   "id": "31074358-4089-4ad8-b602-848e517ec4ff",
   "metadata": {
    "tags": []
   },
   "source": [
    "## 安装推理后端"
   ]
  },
  {
   "cell_type": "code",
   "execution_count": 4,
   "id": "a26df02f",
   "metadata": {},
   "outputs": [
    {
     "name": "stdout",
     "output_type": "stream",
     "text": [
      "Looking in indexes: https://pypi.tuna.tsinghua.edu.cn/simple\n",
      "Requirement already satisfied: mmdeploy-runtime in c:\\users\\zhangzihao\\appdata\\local\\miniconda3\\envs\\mmseg_20230713\\lib\\site-packages (1.2.0)\n",
      "Looking in indexes: https://pypi.tuna.tsinghua.edu.cn/simple\n",
      "Requirement already satisfied: mmdeploy-runtime in c:\\users\\zhangzihao\\appdata\\local\\miniconda3\\envs\\mmseg_20230713\\lib\\site-packages (1.2.0)\n",
      "Looking in indexes: https://pypi.tuna.tsinghua.edu.cn/simple\n",
      "Requirement already satisfied: mmdeploy-runtime in c:\\users\\zhangzihao\\appdata\\local\\miniconda3\\envs\\mmseg_20230713\\lib\\site-packages (1.2.0)\n",
      "Looking in indexes: https://pypi.tuna.tsinghua.edu.cn/simple\n",
      "Requirement already satisfied: mmdeploy-runtime in c:\\users\\zhangzihao\\appdata\\local\\miniconda3\\envs\\mmseg_20230713\\lib\\site-packages (1.2.0)\n"
     ]
    }
   ],
   "source": [
    "# 没有 GPU\n",
    "# !pip install mmdeploy-runtime --upgrade\n",
    "!pip install mmdeploy-runtime==1.2.0\n",
    "\n",
    "# 有 GPU\n",
    "# !pip install mmdeploy-runtime-gpu --upgrade"
   ]
  },
  {
   "cell_type": "code",
   "execution_count": 8,
   "id": "12f88d9e",
   "metadata": {},
   "outputs": [
    {
     "name": "stdout",
     "output_type": "stream",
     "text": [
      "1.2.0\n",
      "1.2.0\n",
      "1.2.0\n",
      "1.2.0\n"
     ]
    }
   ],
   "source": [
    "import mmdeploy_runtime\n",
    "print(mmdeploy_runtime.__version__)"
   ]
  },
  {
   "cell_type": "code",
   "execution_count": 1,
   "id": "1464235e-f0b9-4cbc-8a98-012ff27889a7",
   "metadata": {},
   "outputs": [],
   "source": [
    "# 有 GPU\n",
    "# !pip install mmdeploy-runtime-gpu==1.0.0"
   ]
  },
  {
   "cell_type": "markdown",
   "id": "8e7edf15-c653-40bd-8522-5a1b44b56bf3",
   "metadata": {},
   "source": [
    "## 安装其他第三方工具包"
   ]
  },
  {
   "cell_type": "code",
   "execution_count": 11,
   "id": "6701818c-6df2-4cd9-b601-0e849af94926",
   "metadata": {},
   "outputs": [],
   "source": [
    "!pip install matplotlib tqdm opencv-python tqdm"
   ]
  },
  {
   "cell_type": "markdown",
   "id": "a46e082b-57f9-4cc6-bd62-641fcf6fbb57",
   "metadata": {},
   "source": [
    "## 下载待测图像和视频文件至当前文件夹\n",
    "\n",
    "西瓜图片和视频，拍摄人：田文博\n",
    "\n",
    "https://zihao-openmmlab.obs.cn-east-3.myhuaweicloud.com/20230130-mmseg/watermelon/data/watermelon_test1.jpg\n",
    "\n",
    "https://zihao-openmmlab.obs.cn-east-3.myhuaweicloud.com/20230130-mmseg/watermelon/data/video_watermelon_3.mov"
   ]
  },
  {
   "cell_type": "markdown",
   "id": "a7d7e6eb-cbac-439b-9038-a730e4b48d19",
   "metadata": {},
   "source": [
    "## 下载MMDeploy导出的ONNX模型文件\n",
    "\n",
    "https://zihao-openmmlab.obs.cn-east-3.myhuaweicloud.com/20230130-mmseg/watermelon/ckpt/MMSeg-Watermelon-ONNX.zip\n",
    "\n",
    "## 解压至当前文件夹，删除压缩包"
   ]
  },
  {
   "cell_type": "code",
   "execution_count": null,
   "id": "72c4933b",
   "metadata": {},
   "outputs": [],
   "source": []
  }
 ],
 "metadata": {
  "kernelspec": {
   "display_name": "Python 3 (ipykernel)",
   "language": "python",
   "name": "python3"
  },
  "language_info": {
   "codemirror_mode": {
    "name": "ipython",
    "version": 3
   },
   "file_extension": ".py",
   "mimetype": "text/x-python",
   "name": "python",
   "nbconvert_exporter": "python",
   "pygments_lexer": "ipython3",
   "version": "3.7.10"
  }
 },
 "nbformat": 4,
 "nbformat_minor": 5
}
