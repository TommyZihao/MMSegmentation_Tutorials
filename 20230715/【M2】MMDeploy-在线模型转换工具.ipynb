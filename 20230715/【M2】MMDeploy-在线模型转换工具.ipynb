{
 "cells": [
  {
   "cell_type": "markdown",
   "id": "4f6fd552-4c00-4972-b5f0-041c0fa54381",
   "metadata": {},
   "source": [
    "# MMDeploy-在线模型转换工具\n",
    "\n",
    "同济子豪兄 2023-7-16"
   ]
  },
  {
   "cell_type": "markdown",
   "id": "65743976-bcbf-45dd-aded-ea65cf1625c2",
   "metadata": {},
   "source": [
    "## 在线模型转换工具\n",
    "\n",
    "https://platform.openmmlab.com/deploee"
   ]
  },
  {
   "cell_type": "markdown",
   "id": "fcbee7d5-c78b-47ee-bd97-95760e020e17",
   "metadata": {},
   "source": [
    "## MMDeploy微信答疑群\n",
    "\n",
    "添加喵喵小助手微信号：OpenMMLabwx 回复 子豪兄模型部署\n",
    "\n",
    "免费加入`MMDeploy模型部署、AI编译、边缘计算`交流群，有问必答"
   ]
  },
  {
   "cell_type": "code",
   "execution_count": null,
   "id": "88ea7e8f-577f-47a6-8489-328d24954288",
   "metadata": {},
   "outputs": [],
   "source": []
  }
 ],
 "metadata": {
  "kernelspec": {
   "display_name": "Python 3 (ipykernel)",
   "language": "python",
   "name": "python3"
  },
  "language_info": {
   "codemirror_mode": {
    "name": "ipython",
    "version": 3
   },
   "file_extension": ".py",
   "mimetype": "text/x-python",
   "name": "python",
   "nbconvert_exporter": "python",
   "pygments_lexer": "ipython3",
   "version": "3.7.10"
  }
 },
 "nbformat": 4,
 "nbformat_minor": 5
}
