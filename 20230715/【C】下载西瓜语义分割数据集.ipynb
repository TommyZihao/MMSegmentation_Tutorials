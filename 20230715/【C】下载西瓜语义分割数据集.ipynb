{
 "cells": [
  {
   "cell_type": "markdown",
   "id": "c669bd26-b5b8-40ad-b087-ef8324985c6f",
   "metadata": {},
   "source": [
    "# 下载西瓜语义分割数据集\n",
    "\n",
    "同济子豪兄 2023-2-13 6-11 6-25\n",
    "\n",
    "## 数据集说明\n",
    "\n",
    "https://github.com/TommyZihao/Train_Custom_Dataset/tree/main/%E8%AF%AD%E4%B9%89%E5%88%86%E5%89%B2"
   ]
  },
  {
   "cell_type": "markdown",
   "id": "c1229f75-1171-4719-b0ba-fb7a6f66708e",
   "metadata": {},
   "source": [
    "## 进入MMSegmentation主目录"
   ]
  },
  {
   "cell_type": "code",
   "execution_count": 3,
   "id": "3bbc07c1-0207-4f2a-a99e-e1452dee5d01",
   "metadata": {},
   "outputs": [],
   "source": [
    "import os\n",
    "os.chdir('mmsegmentation')"
   ]
  },
  {
   "cell_type": "code",
   "execution_count": 4,
   "id": "d62a9d6c-a6b6-4314-9505-c7f2d3fc9a55",
   "metadata": {},
   "outputs": [
    {
     "data": {
      "text/plain": [
       "'/home/featurize/work/MMSegmentation教程20230625/mmsegmentation'"
      ]
     },
     "execution_count": 4,
     "metadata": {},
     "output_type": "execute_result"
    }
   ],
   "source": [
    "os.getcwd()"
   ]
  },
  {
   "cell_type": "markdown",
   "id": "d74686a7-e394-4316-8f96-af07554966aa",
   "metadata": {},
   "source": [
    "## 下载整理好之后的数据集"
   ]
  },
  {
   "cell_type": "code",
   "execution_count": 3,
   "id": "43fa462e-fde0-4355-af26-38c66acdf3ed",
   "metadata": {},
   "outputs": [
    {
     "name": "stdout",
     "output_type": "stream",
     "text": [
      "--2023-07-11 15:40:37--  https://zihao-openmmlab.obs.cn-east-3.myhuaweicloud.com/20230130-mmseg/dataset/watermelon/Watermelon87_Semantic_Seg_Mask.zip\n",
      "正在连接 172.16.0.13:5848... 已连接。\n",
      "已发出 Proxy 请求，正在等待回应... 200 OK\n",
      "长度： 13230174 (13M) [application/zip]\n",
      "正在保存至: “Watermelon87_Semantic_Seg_Mask.zip”\n",
      "\n",
      "Watermelon87_Semant 100%[===================>]  12.62M  18.6MB/s    用时 0.7s    \n",
      "\n",
      "2023-07-11 15:40:38 (18.6 MB/s) - 已保存 “Watermelon87_Semantic_Seg_Mask.zip” [13230174/13230174])\n",
      "\n"
     ]
    }
   ],
   "source": [
    "!rm -rf Watermelon87_Semantic_Seg_Mask.zip Watermelon87_Semantic_Seg_Mask\n",
    "\n",
    "!wget https://zihao-openmmlab.obs.cn-east-3.myhuaweicloud.com/20230130-mmseg/dataset/watermelon/Watermelon87_Semantic_Seg_Mask.zip\n",
    "\n",
    "!unzip Watermelon87_Semantic_Seg_Mask.zip >> /dev/null # 解压\n",
    "\n",
    "!rm -rf Watermelon87_Semantic_Seg_Mask.zip # 删除压缩包"
   ]
  },
  {
   "cell_type": "markdown",
   "id": "091f4492-a74e-412d-b404-1001a5fc7841",
   "metadata": {},
   "source": [
    "在`mmsegmentation`主目录中，出现文件夹`Watermelon87_Semantic_Seg_Mask`"
   ]
  },
  {
   "cell_type": "markdown",
   "id": "18c647c9-76e2-4eb6-b066-dc9be3000491",
   "metadata": {},
   "source": [
    "## 下载用于测试的图片和视频素材"
   ]
  },
  {
   "cell_type": "code",
   "execution_count": 4,
   "id": "294e31d5-bab2-4bcd-b6b8-3bd3ae65542e",
   "metadata": {},
   "outputs": [
    {
     "name": "stdout",
     "output_type": "stream",
     "text": [
      "--2023-07-11 15:40:47--  https://zihao-openmmlab.obs.cn-east-3.myhuaweicloud.com/20230130-mmseg/watermelon/data/watermelon_test1.jpg\n",
      "正在连接 172.16.0.13:5848... 已连接。\n",
      "已发出 Proxy 请求，正在等待回应... 200 OK\n",
      "长度： 1036141 (1012K) [image/jpeg]\n",
      "正在保存至: “data/watermelon_test1.jpg”\n",
      "\n",
      "watermelon_test1.jp 100%[===================>]   1012K  3.78MB/s    用时 0.3s    \n",
      "\n",
      "2023-07-11 15:40:48 (3.78 MB/s) - 已保存 “data/watermelon_test1.jpg” [1036141/1036141])\n",
      "\n",
      "--2023-07-11 15:40:48--  https://zihao-openmmlab.obs.cn-east-3.myhuaweicloud.com/20230130-mmseg/watermelon/data/video_watermelon_2.mp4\n",
      "正在连接 172.16.0.13:5848... 已连接。\n",
      "已发出 Proxy 请求，正在等待回应... 200 OK\n",
      "长度： 8316233 (7.9M) [video/mp4]\n",
      "正在保存至: “data/video_watermelon_2.mp4”\n",
      "\n",
      "video_watermelon_2. 100%[===================>]   7.93M  18.9MB/s    用时 0.4s    \n",
      "\n",
      "2023-07-11 15:40:48 (18.9 MB/s) - 已保存 “data/video_watermelon_2.mp4” [8316233/8316233])\n",
      "\n",
      "--2023-07-11 15:40:49--  https://zihao-openmmlab.obs.cn-east-3.myhuaweicloud.com/20230130-mmseg/watermelon/data/video_watermelon_3.mov\n",
      "正在连接 172.16.0.13:5848... 已连接。\n",
      "已发出 Proxy 请求，正在等待回应... 200 OK\n",
      "长度： 8903784 (8.5M) [video/quicktime]\n",
      "正在保存至: “data/video_watermelon_3.mov”\n",
      "\n",
      "video_watermelon_3. 100%[===================>]   8.49M  20.6MB/s    用时 0.4s    \n",
      "\n",
      "2023-07-11 15:40:49 (20.6 MB/s) - 已保存 “data/video_watermelon_3.mov” [8903784/8903784])\n",
      "\n"
     ]
    }
   ],
   "source": [
    "# 西瓜图片和视频，拍摄人：田文博\n",
    "\n",
    "!wget https://zihao-openmmlab.obs.cn-east-3.myhuaweicloud.com/20230130-mmseg/watermelon/data/watermelon_test1.jpg -P data\n",
    "\n",
    "!wget https://zihao-openmmlab.obs.cn-east-3.myhuaweicloud.com/20230130-mmseg/watermelon/data/video_watermelon_2.mp4 -P data\n",
    "\n",
    "!wget https://zihao-openmmlab.obs.cn-east-3.myhuaweicloud.com/20230130-mmseg/watermelon/data/video_watermelon_3.mov -P data"
   ]
  },
  {
   "cell_type": "markdown",
   "id": "be6d3b1c-f4f7-46ac-9945-02635594f7d8",
   "metadata": {
    "tags": []
   },
   "source": [
    "## 删除系统自动生成的多余文件"
   ]
  },
  {
   "cell_type": "markdown",
   "id": "356428f7-db87-4fc9-9873-e1cf1b5088db",
   "metadata": {},
   "source": [
    "### 查看待删除的多余文件"
   ]
  },
  {
   "cell_type": "code",
   "execution_count": 10,
   "id": "e3d19ea4-f543-4bdd-acc4-994555857928",
   "metadata": {},
   "outputs": [],
   "source": [
    "!find . -iname '__MACOSX'"
   ]
  },
  {
   "cell_type": "code",
   "execution_count": 11,
   "id": "e11b9512-584e-460a-a9aa-4f39a2c4e0ba",
   "metadata": {},
   "outputs": [],
   "source": [
    "!find . -iname '.DS_Store'"
   ]
  },
  {
   "cell_type": "code",
   "execution_count": 12,
   "id": "7b85e491-0497-49ff-84b6-1991b096c42d",
   "metadata": {},
   "outputs": [],
   "source": [
    "!find . -iname '.ipynb_checkpoints'"
   ]
  },
  {
   "cell_type": "markdown",
   "id": "8a9de3ce-9237-4db7-a667-2847663a3161",
   "metadata": {},
   "source": [
    "### 删除多余文件"
   ]
  },
  {
   "cell_type": "code",
   "execution_count": 4,
   "id": "5240771b-5535-4150-90be-c002bd7b8baa",
   "metadata": {},
   "outputs": [],
   "source": [
    "!for i in `find . -iname '__MACOSX'`; do rm -rf $i;done"
   ]
  },
  {
   "cell_type": "code",
   "execution_count": 5,
   "id": "699b2af5-63a1-41fc-adb3-488e3f4bf01e",
   "metadata": {},
   "outputs": [],
   "source": [
    "!for i in `find . -iname '.DS_Store'`; do rm -rf $i;done"
   ]
  },
  {
   "cell_type": "code",
   "execution_count": 6,
   "id": "7e530f61-072a-4d16-a4bf-c8ab99cdeeb1",
   "metadata": {},
   "outputs": [],
   "source": [
    "!for i in `find . -iname '.ipynb_checkpoints'`; do rm -rf $i;done"
   ]
  },
  {
   "cell_type": "markdown",
   "id": "f5f67d64-acb3-48fb-ad42-9a30c8aab536",
   "metadata": {},
   "source": [
    "### 验证多余文件已删除"
   ]
  },
  {
   "cell_type": "code",
   "execution_count": 7,
   "id": "2f9228d1-8426-4b48-8b6a-84096b26b095",
   "metadata": {},
   "outputs": [],
   "source": [
    "!find . -iname '__MACOSX'"
   ]
  },
  {
   "cell_type": "code",
   "execution_count": 8,
   "id": "ac3dbe7d-c347-4d67-8074-da4915507526",
   "metadata": {},
   "outputs": [],
   "source": [
    "!find . -iname '.DS_Store'"
   ]
  },
  {
   "cell_type": "code",
   "execution_count": 9,
   "id": "500ec0a3-6399-4d18-b53c-9ea4248635da",
   "metadata": {},
   "outputs": [],
   "source": [
    "!find . -iname '.ipynb_checkpoints'"
   ]
  },
  {
   "cell_type": "markdown",
   "id": "d77ec0f8-53ee-46f3-9a4f-b04ed02905f3",
   "metadata": {},
   "source": [
    "## 查看文件夹目录结构"
   ]
  },
  {
   "cell_type": "code",
   "execution_count": 7,
   "id": "89f12a9e-9858-46b5-9f1b-62447a7c5118",
   "metadata": {},
   "outputs": [],
   "source": [
    "!pip install seedir emoji -i https://pypi.tuna.tsinghua.edu.cn/simple"
   ]
  },
  {
   "cell_type": "code",
   "execution_count": 6,
   "id": "928c76db-9eb7-4fd8-a7bb-340ba2c4db4d",
   "metadata": {},
   "outputs": [
    {
     "name": "stdout",
     "output_type": "stream",
     "text": [
      "📁 Watermelon87_Semantic_Seg_Mask/\n",
      "├─📁 img_dir/\n",
      "│ ├─📁 train/\n",
      "│ └─📁 val/\n",
      "└─📁 ann_dir/\n",
      "  ├─📁 train/\n",
      "  └─📁 val/\n"
     ]
    }
   ],
   "source": [
    "import seedir as sd\n",
    "sd.seedir('Watermelon87_Semantic_Seg_Mask', style='emoji', depthlimit=2)"
   ]
  },
  {
   "cell_type": "code",
   "execution_count": null,
   "id": "5448455e-4e0c-4e9c-80be-46ae4b1ae34a",
   "metadata": {},
   "outputs": [],
   "source": []
  }
 ],
 "metadata": {
  "kernelspec": {
   "display_name": "Python 3 (ipykernel)",
   "language": "python",
   "name": "python3"
  },
  "language_info": {
   "codemirror_mode": {
    "name": "ipython",
    "version": 3
   },
   "file_extension": ".py",
   "mimetype": "text/x-python",
   "name": "python",
   "nbconvert_exporter": "python",
   "pygments_lexer": "ipython3",
   "version": "3.7.10"
  }
 },
 "nbformat": 4,
 "nbformat_minor": 5
}
