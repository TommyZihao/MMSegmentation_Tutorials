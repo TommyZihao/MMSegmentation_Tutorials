{
 "cells": [
  {
   "cell_type": "markdown",
   "id": "d428e1e5-5b7b-4e16-880c-bdb3d3d1f6e4",
   "metadata": {},
   "source": [
    "# 模型权重文件精简转换\n",
    "\n",
    "同济子豪兄 2023-4-3 5-24 6-27\n",
    "\n",
    "经过精简转换之后，模型.pth权重文件大小缩小为原来的一半以上，但不影响推理结果和推理速度"
   ]
  },
  {
   "cell_type": "markdown",
   "id": "06a39b7b-017c-4193-9387-dce43396f96c",
   "metadata": {
    "tags": []
   },
   "source": [
    "## 进入 mmsegmentation 主目录"
   ]
  },
  {
   "cell_type": "code",
   "execution_count": 1,
   "id": "a1103085-107b-4ef7-9a04-cb2e5ce2a6f0",
   "metadata": {},
   "outputs": [],
   "source": [
    "import os\n",
    "os.chdir('mmsegmentation')"
   ]
  },
  {
   "cell_type": "markdown",
   "id": "8ee663cd-7c01-4693-b788-88b86672dcf9",
   "metadata": {},
   "source": [
    "## 模型精简转换"
   ]
  },
  {
   "cell_type": "code",
   "execution_count": 3,
   "id": "3c2cb33c-227f-4be8-a6f1-ec85a417e9dc",
   "metadata": {},
   "outputs": [],
   "source": [
    "!python tools/misc/publish_model.py \\\n",
    "        work_dirs/ZihaoDataset-PSPNet/best_mIoU_iter_27500.pth \\\n",
    "        checkpoint/Zihao_PSPNet.pth"
   ]
  },
  {
   "cell_type": "code",
   "execution_count": 2,
   "id": "83e8f653-0f5d-46b1-85bb-f0e235badfba",
   "metadata": {},
   "outputs": [],
   "source": [
    "# !python tools/misc/publish_model.py \\\n",
    "#         work_dirs/ZihaoDataset-PSPNet/iter_40000.pth \\\n",
    "#         checkpoint/Zihao_PSPNet.pth"
   ]
  },
  {
   "cell_type": "code",
   "execution_count": 3,
   "id": "93e36d68-308b-4e01-a548-f21f44415ccf",
   "metadata": {},
   "outputs": [],
   "source": [
    "# !python tools/misc/publish_model.py \\\n",
    "#         work_dirs/ZihaoDataset-Segformer/best_mIoU_iter_24000.pth \\\n",
    "#         checkpoint/Zihao_Segformer.pth"
   ]
  },
  {
   "cell_type": "markdown",
   "id": "93ce0f50-2c08-4c7d-8797-327490e028a6",
   "metadata": {},
   "source": [
    "## 转换好的模型权重文件保存在`mmsegmentation/checkpoint`目录"
   ]
  },
  {
   "cell_type": "code",
   "execution_count": null,
   "id": "3627593b-bbac-4474-a677-3f613e53a634",
   "metadata": {},
   "outputs": [],
   "source": []
  }
 ],
 "metadata": {
  "kernelspec": {
   "display_name": "Python 3 (ipykernel)",
   "language": "python",
   "name": "python3"
  },
  "language_info": {
   "codemirror_mode": {
    "name": "ipython",
    "version": 3
   },
   "file_extension": ".py",
   "mimetype": "text/x-python",
   "name": "python",
   "nbconvert_exporter": "python",
   "pygments_lexer": "ipython3",
   "version": "3.7.10"
  }
 },
 "nbformat": 4,
 "nbformat_minor": 5
}
